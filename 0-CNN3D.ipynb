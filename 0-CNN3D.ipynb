{
 "cells": [
  {
   "cell_type": "code",
   "execution_count": null,
   "metadata": {},
   "outputs": [],
   "source": [
    "from skimage.transform import resize\n",
    "from itertools import product\n",
    "from collections import OrderedDict\n",
    "from tqdm.notebook import tqdm\n",
    "\n",
    "import torch\n",
    "from torch.utils.data import DataLoader\n",
    "from torchvision import transforms, utils, models\n",
    "import torch.nn as nn \n",
    "import torch.nn.functional as F\n",
    "import torch.optim as optim\n",
    "\n",
    "from thirdparty.Run import RunBuilder as RB\n",
    "from thirdparty.Run import RunManager as RM\n",
    "\n",
    "%run DataLoader.ipynb\n",
    "%run Visualization.ipynb\n",
    "\n",
    "device = torch.device(\"cuda\")"
   ]
  },
  {
   "cell_type": "markdown",
   "metadata": {},
   "source": [
    "# Model Definition"
   ]
  },
  {
   "cell_type": "code",
   "execution_count": 4,
   "metadata": {},
   "outputs": [],
   "source": [
    "import torch\n",
    "from torchvision import transforms, utils\n",
    "import torch.nn as nn\n",
    "import torch.nn.functional as F\n",
    "\n",
    "\n",
    "class Convolution3D(nn.Module):\n",
    "    def __init__(self):\n",
    "        super(Convolution3D,self).__init__()\n",
    "        self.Convolution1 = nn.Conv3d(in_channels = 3, out_channels = 64, kernel_size=(3,3,3), stride=1, padding=(1,0,0), dilation=1, groups=1, bias=True, padding_mode='zeros')\n",
    "        self.BatchN1 = nn.BatchNorm3d(num_features = 64, eps=1e-05, momentum=0.1, affine=True, track_running_stats=True)\n",
    "        \n",
    "        self.MaxPooling1 = nn.MaxPool3d(kernel_size = (1,2,2), stride=(1,2,2), padding=(0,0,0), dilation=1, return_indices=False, ceil_mode=False)\n",
    "        self.MaxPooling2 = nn.MaxPool3d(kernel_size =(1,2,2), stride=(1,2,2), padding=(0,0,0), dilation=1, return_indices=False, ceil_mode=False)\n",
    "        \n",
    "        self.Convolution2 = nn.Conv3d(in_channels = 64, out_channels = 64,kernel_size=3,stride = 1, padding = (1,0,0))\n",
    "        self.BatchN2 = nn.BatchNorm3d(num_features = 64, eps=1e-05, momentum=0.1, affine=True, track_running_stats=True)\n",
    "        \n",
    "        self.ResConvolution1 = nn.Conv3d(in_channels = 64, out_channels = 64, kernel_size = 3, stride = 1, padding = (1,1,1))\n",
    "        self.averagePool1 = nn.AvgPool3d(kernel_size = 1, stride =1, padding = (0,0,0))\n",
    "        self.ResBatchN1 = nn.BatchNorm3d(num_features = 64, eps=1e-05, momentum=0.1, affine=True, track_running_stats=True)\n",
    "        \n",
    "        self.Convolution3 = nn.Conv3d(in_channels = 64, out_channels = 64,kernel_size=3,stride = 1, padding = (1,0,0))\n",
    "        self.BatchN3 = nn.BatchNorm3d(num_features = 64, eps=1e-05, momentum=0.1, affine=True, track_running_stats=True)\n",
    "        \n",
    "        self.ResConvolution2 = nn.Conv3d(in_channels = 64, out_channels = 64, kernel_size = 3, stride = 1, padding = (1,1,1))\n",
    "        self.averagePool2 = nn.AvgPool3d(kernel_size = 1, stride =1, padding = (0,0,0) )\n",
    "        self.ResBatchN2 = nn.BatchNorm3d(num_features = 64, eps=1e-05, momentum=0.1, affine=True, track_running_stats=True)\n",
    "        \n",
    "        self.Convolution4 = nn.Conv3d(in_channels = 64, out_channels = 8, kernel_size=(3,3,3), stride=1, padding=(1,0,0), dilation=1, groups=1, bias=True, padding_mode='zeros')\n",
    "        self.BatchN4 = nn.BatchNorm3d(num_features = 8, eps=1e-05, momentum=0.1, affine=True, track_running_stats=True)\n",
    "        \n",
    "        self.Convolution5 = nn.Conv3d(in_channels = 8, out_channels = 8, kernel_size=(3,3,3), stride=1, padding=(1,0,0), dilation=1, groups=1, bias=True, padding_mode='zeros')\n",
    "        self.BatchN5 = nn.BatchNorm3d(num_features = 8, eps=1e-05, momentum=0.1, affine=True, track_running_stats=True)\n",
    "        \n",
    "        self.Convolution6 = nn.Conv3d(in_channels = 8, out_channels = 8, kernel_size=(3,3,3), stride=1, padding=(1,0,0), dilation=1, groups=1, bias=True, padding_mode='zeros')\n",
    "        self.BatchN6 = nn.BatchNorm3d(num_features = 8, eps=1e-05, momentum=0.1, affine=True, track_running_stats=True)\n",
    "        \n",
    "        self.Flatten1 = nn.Flatten(start_dim=2)\n",
    "        \n",
    "        self.LSTM1 = nn.LSTM(input_size = 10488, hidden_size = 64, num_layers = 1, batch_first=True)\n",
    "        self.LSTM2 = nn.LSTM(input_size = 64, hidden_size = 16, num_layers = 1, batch_first=True)\n",
    "        \n",
    "        self.fc1 = nn.Linear(in_features =16, out_features = 512, bias=True)\n",
    "        self.fc2 = nn.Linear(in_features = 512, out_features = 128, bias=True)\n",
    "        self.fc3 = nn.Linear(in_features = 128, out_features = 64, bias=True)\n",
    "        self.fc4 = nn.Linear(in_features = 64, out_features = 16, bias=True)\n",
    "        self.fc5 = nn.Linear(in_features = 16, out_features = 1, bias=True)\n",
    "    def forward(self, Input):\n",
    "        # 3*3*3 3D Conv 3\n",
    "        image = F.relu(self.BatchN1(self.Convolution1(Input)))\n",
    "        # input size = (1,3,15,120,320)-(Batches, Channels, Depth, Height, Width)\n",
    "        # output size = (1, 64, 13, 118, 318)-(Batches, Channels, Depth, Height, Width)\n",
    "        \n",
    "        # 3D Max Pooling\n",
    "        image = self.MaxPooling1(image)\n",
    "        # input size = (1, 64, 13, 118, 318)-(Batches, Channels, Depth, Height, Width)\n",
    "        # output size = (1, 64, 12, 117, 317)-(Batches, Channels, Depth, Height, Width)\n",
    "        \n",
    "        # 3D Max Pooling\n",
    "        image = self.MaxPooling2(image)\n",
    "        # input size = (1, 64, 12, 117, 317)-(Batches, Channels, Depth, Height, Width)\n",
    "        # output size = (1, 64, 11, 116, 316)-(Batches, Channels, Depth, Height, Width)\n",
    "        \n",
    "        # 3*3*3 3D Conv 64\n",
    "        image = F.relu(self.BatchN2(self.Convolution2(image)))\n",
    "        \n",
    "        # ResNet - 3*3*3 3D Conv 64\n",
    "        Residual = image\n",
    "        Res_Output = F.relu(self.ResBatchN1(self.ResConvolution1(image)))\n",
    "        image = F.relu(Residual + Res_Output)\n",
    "        image = self.averagePool1(image)\n",
    "        \n",
    "        # 3*3*3 3D Conv 64\n",
    "        image = F.relu(self.BatchN3(self.Convolution3(image)))\n",
    "        \n",
    "        # ResNet - 3*3*3 3D Conv 64\n",
    "        Residual = image\n",
    "        Res_Output = F.relu(self.ResBatchN2(self.ResConvolution2(image)))\n",
    "        image = F.relu(Residual + Res_Output)\n",
    "        del Residual\n",
    "        del Res_Output\n",
    "        image = self.averagePool2(image)\n",
    "        \n",
    "        # 3*3*3 3D Conv 8\n",
    "        image = F.relu(self.BatchN4(self.Convolution4(image)))\n",
    "        \n",
    "        # 3*3*3 3D Conv 8\n",
    "        image = F.relu(self.BatchN5(self.Convolution5(image)))\n",
    "        \n",
    "        # 3*3*3 3D Conv 8\n",
    "        image = F.relu(self.BatchN6(self.Convolution6(image)))\n",
    "        \n",
    "        # LSTM 64\n",
    "        image = image.permute([0,2,1,3,4])\n",
    "        image = self.Flatten1(image)\n",
    "        image = self.LSTM1(image)\n",
    "        image = image[0]\n",
    "        image = torch.tanh(image)\n",
    "        \n",
    "        # LSTM 16\n",
    "        image = torch.tanh(self.LSTM2(image)[0])\n",
    "\n",
    "        # FC 512\n",
    "        image = image.permute(1,0,2)\n",
    "        image = F.relu(self.fc1(image))\n",
    " \n",
    "        # FC 128\n",
    "        image = F.relu(self.fc2(image))\n",
    "\n",
    "        # FC 64\n",
    "        image = F.relu(self.fc3(image))\n",
    " \n",
    "        # FC 16\n",
    "        image = F.relu(self.fc4(image))\n",
    "\n",
    "        # FC 1\n",
    "        image = self.fc5(image)\n",
    "\n",
    "        return image"
   ]
  },
  {
   "cell_type": "markdown",
   "metadata": {},
   "source": [
    "# Model Training / Loading"
   ]
  },
  {
   "cell_type": "raw",
   "metadata": {
    "jupyter": {
     "outputs_hidden": true,
     "source_hidden": true
    }
   },
   "source": [
    "parameters = OrderedDict(\n",
    "    file = ['3DCNN_Paper'], # used to mark specific files in case that we want to check them on tensorboard\n",
    "    learning_rate = [0.001],\n",
    "    batch_size = [5],\n",
    "    seq_len = [5],\n",
    "    num_workers = [2],\n",
    ")\n",
    "m = RM.RunManager()\n",
    "\n",
    "for run in RB.RunBuilder.get_runs(parameters):\n",
    "    network = Convolution3D().to(device)\n",
    "\n",
    "    optimizer = optim.Adam(network.parameters(),lr = run.learning_rate,betas=(0.9, 0.999), eps=1e-08, weight_decay=0.001, amsgrad=False)\n",
    "\n",
    "    udacity_dataset = UdacityDataset(csv_file='/export/jupyterlab/data/udacity-challenge-2/Ch2_002_export/interpolated.csv',\n",
    "                                     root_dir='/export/jupyterlab/data/udacity-challenge-2/Ch2_002_export/',\n",
    "                                     transform=transforms.Compose([transforms.ToTensor()]),\n",
    "                                     select_camera='center_camera')\n",
    "\n",
    "    dataset_size = int(len(udacity_dataset))\n",
    "    del udacity_dataset\n",
    "    split_point = int(dataset_size * 0.8)\n",
    "\n",
    "    training_set = UdacityDataset(csv_file='/export/jupyterlab/data/udacity-challenge-2/Ch2_002_export/interpolated.csv',\n",
    "                                     root_dir='/export/jupyterlab/data/udacity-challenge-2/Ch2_002_export/',\n",
    "                                     transform=transforms.Compose([transforms.ToTensor()]),\n",
    "                                     select_camera='center_camera',\n",
    "                                     select_range=(0,split_point))\n",
    "    validation_set = UdacityDataset(csv_file='/export/jupyterlab/data/udacity-challenge-2/Ch2_002_export/interpolated.csv',\n",
    "                                     root_dir='/export/jupyterlab/data/udacity-challenge-2/Ch2_002_export/',\n",
    "                                     transform=transforms.Compose([transforms.ToTensor()]),\n",
    "                                     select_camera='center_camera',\n",
    "                                     select_range=(split_point,dataset_size))\n",
    "\n",
    "    training_cbs = ConsecutiveBatchSampler(data_source=training_set, batch_size=run.batch_size, shuffle=True, drop_last=False, seq_len=run.seq_len)\n",
    "    training_loader = DataLoader(training_set, sampler=training_cbs, num_workers=run.num_workers, collate_fn=(lambda x: x[0]))\n",
    "    \n",
    "    validation_cbs = ConsecutiveBatchSampler(data_source=validation_set, batch_size=run.batch_size, shuffle=True, drop_last=False, seq_len=run.seq_len)\n",
    "    validation_loader = DataLoader(validation_set, sampler=validation_cbs, num_workers=run.num_workers, collate_fn=(lambda x: x[0]))\n",
    "    \n",
    "    m.begin_run( run,network,[run.batch_size,3,run.seq_len,120,320] )\n",
    "    for epoch in range(10):\n",
    "        m.begin_epoch()\n",
    "# Calculation on Training Loss\n",
    "        for training_sample in tqdm(training_loader, total=int(len(training_set)/run.batch_size/run.seq_len)):\n",
    "            training_sample['image'] = torch.Tensor(resize(training_sample['image'], (run.batch_size,run.seq_len,3,120,320),anti_aliasing=True))\n",
    "            training_sample['image'] = training_sample['image'].permute(0,2,1,3,4)\n",
    "            \n",
    "            param_values = [v for v in training_sample.values()]\n",
    "            image,angle = param_values[0],param_values[3]\n",
    "            image = image.to(device)\n",
    "            prediction = network(image)\n",
    "            prediction = prediction.squeeze().permute(1,0).to(device)\n",
    "            labels = angle.to(device)\n",
    "            del param_values, image, angle\n",
    "            if labels.shape[0]!=prediction.shape[0]:\n",
    "                prediction = prediction[-labels.shape[0],:]\n",
    "            training_loss_angle = F.mse_loss(prediction,labels,size_average=None, reduce=None, reduction='mean')\n",
    "            optimizer.zero_grad()# zero the gradient that are being held in the Grad attribute of the weights\n",
    "            training_loss_angle.backward() # calculate the gradients\n",
    "            optimizer.step() # finishing calculation on gradient\n",
    "        print(\"Done\")\n",
    "# Calculation on Validation Loss\n",
    "        with torch.no_grad():    \n",
    "            for Validation_sample in tqdm(validation_loader, total=int(len(validation_set)/run.batch_size/run.seq_len)):\n",
    "                Validation_sample['image'] = torch.Tensor(resize(Validation_sample['image'], (run.batch_size,run.seq_len,3,120,320),anti_aliasing=True))\n",
    "                Validation_sample['image'] = Validation_sample['image'].permute(0,2,1,3,4)\n",
    "\n",
    "                param_values = [v for v in Validation_sample.values()]\n",
    "                image,angle = param_values[0],param_values[3]\n",
    "                image = image.to(device)\n",
    "                prediction = network(image)\n",
    "                prediction = prediction.squeeze().permute(1,0).to(device)\n",
    "                labels = angle.to(device)\n",
    "                del param_values, image, angle\n",
    "                if labels.shape[0]!=prediction.shape[0]:\n",
    "                    prediction = prediction[-labels.shape[0],:]\n",
    "                validation_loss_angle = F.mse_loss(prediction,labels,size_average=None, reduce=None, reduction='mean')\n",
    "                m.track_loss(validation_loss_angle)\n",
    "                m.track_num_correct(prediction,labels) \n",
    "        m.end_epoch(validation_set)\n",
    "        torch.save(network.state_dict(), \"saved_models/CNN3D/epoch-{}\".format(epoch))\n",
    "    m.end_run()\n",
    "m.save('result')"
   ]
  },
  {
   "cell_type": "code",
   "execution_count": 5,
   "metadata": {},
   "outputs": [
    {
     "data": {
      "text/plain": [
       "<All keys matched successfully>"
      ]
     },
     "execution_count": 5,
     "metadata": {},
     "output_type": "execute_result"
    }
   ],
   "source": [
    "# Load model directly from disk\n",
    "\n",
    "cnn3d_model = Convolution3D().to(device)\n",
    "cnn3d_model.load_state_dict(torch.load('saved_models/CNN3D/3DCNN_Model-epoch-4'))"
   ]
  },
  {
   "cell_type": "code",
   "execution_count": 9,
   "metadata": {},
   "outputs": [
    {
     "name": "stdout",
     "output_type": "stream",
     "text": [
      "(64, 3, 3, 3, 3)\n"
     ]
    },
    {
     "data": {
      "image/png": "[encoded data removed]",
      "text/plain": [
       "<Figure size 720x216 with 31 Axes>"
      ]
     },
     "metadata": {
      "needs_background": "light"
     },
     "output_type": "display_data"
    }
   ],
   "source": [
    "visualize_cnn(cnn3d_model.Convolution1)"
   ]
  },
  {
   "cell_type": "markdown",
   "metadata": {},
   "source": [
    "## Model Evaluation"
   ]
  },
  {
   "cell_type": "code",
   "execution_count": 50,
   "metadata": {},
   "outputs": [],
   "source": [
    "cnn_cam_extractor = CamExtractor3DCNN(cnn3d_model)\n",
    "\n",
    "Batch_size = 5\n",
    "Seq_len = 5 \n",
    "\n",
    "\n",
    "udacity_dataset = UdacityDataset(csv_file='/export/jupyterlab/data/udacity-challenge-2/Ch2_002_export/interpolated.csv',\n",
    "                                 root_dir='/export/jupyterlab/data/udacity-challenge-2/Ch2_002_export/',\n",
    "                                 transform=transforms.Compose([transforms.ToTensor()]),\n",
    "                                 select_camera='center_camera')\n",
    "\n",
    "# 3D CNN has different input batch size and seq_len, so we define new CBS and Loader\n",
    "cbs_3dcnn = ConsecutiveBatchSampler(data_source=udacity_dataset, batch_size=Batch_size, shuffle=False, drop_last=False, seq_len=Seq_len, use_all_frames=True)\n",
    "loader_3dcnn = DataLoader(udacity_dataset, sampler=cbs_3dcnn, collate_fn=(lambda x: x[0]))"
   ]
  },
  {
   "cell_type": "code",
   "execution_count": null,
   "metadata": {},
   "outputs": [
    {
     "data": {
      "application/vnd.jupyter.widget-view+json": {
       "model_id": "0b17492c20db4486937f31be7b634e13",
       "version_major": 2,
       "version_minor": 0
      },
      "text/plain": [
       "HBox(children=(IntProgress(value=0, max=6762), HTML(value='')))"
      ]
     },
     "metadata": {},
     "output_type": "display_data"
    }
   ],
   "source": [
    "mse_loss = nn.MSELoss()\n",
    "\n",
    "angle_pred_history = []\n",
    "angle_true_history = []\n",
    "\n",
    "frame_count = 0\n",
    "for i, testing_sample in enumerate(tqdm(loader_3dcnn, total=len(loader_3dcnn))):\n",
    "    testing_sample['image'] = torch.Tensor(resize(testing_sample['image'], (Batch_size,Seq_len,3,120,320), anti_aliasing=True))\n",
    "    image_input = testing_sample['image'].permute(0,2,1,3,4).to(device)\n",
    "    prediction = cnn3d_model(image_input).squeeze()\n",
    "    target = testing_sample['angle'].squeeze().to(device)\n",
    "    loss = mse_loss(prediction, target)\n",
    "    loss.backward()\n",
    "    \n",
    "    cam_image = cnn_cam_extractor.to_image(width=320, height=120) # Use this line to extract CAM image from the model!\n",
    "    \n",
    "    \n",
    "    for b in range(Batch_size):\n",
    "        fig, ax = plt.subplots()\n",
    "        show_image_single(ax, testing_sample['image'][b, -1, :, :, :].permute(1, 2, 0),\n",
    "                          angle_pred=prediction[b, -1].cpu().detach().numpy()*30,\n",
    "                          speed=testing_sample['speed'][b, -1].detach().numpy(),\n",
    "                          angle_true=testing_sample['angle'][b, -1].detach().numpy()*30)\n",
    "        \n",
    "        angle_pred_history.append(float(prediction[b, -1].cpu().detach().numpy()))\n",
    "        angle_true_history.append(float(testing_sample['angle'][b, -1].detach().numpy()))\n",
    "    \n",
    "        plt.savefig(\"cam_images/steering-{}\".format(frame_count))\n",
    "        frame_count += 1\n",
    "        plt.close()\n",
    "    \n",
    "fig, ax = plt.subplots()\n",
    "ax.plot(angle_pred_history, color='red', label='predicted')\n",
    "ax.plot(angle_true_history, color='blue', label='true')\n",
    "ax.legend()"
   ]
  },
  {
   "cell_type": "code",
   "execution_count": 55,
   "metadata": {},
   "outputs": [
    {
     "data": {
      "text/plain": [
       "<matplotlib.legend.Legend at 0x7f5f46cefa10>"
      ]
     },
     "execution_count": 55,
     "metadata": {},
     "output_type": "execute_result"
    },
    {
     "data": {
      "image/png": "[encoded data removed]",
      "text/plain": [
       "<Figure size 432x288 with 1 Axes>"
      ]
     },
     "metadata": {
      "needs_background": "light"
     },
     "output_type": "display_data"
    }
   ],
   "source": [
    "fig, ax = plt.subplots()\n",
    "\n",
    "ax.plot(angle_pred_history, color='red', label='predicted')\n",
    "ax.plot(angle_true_history, color='blue', label='true')\n",
    "\n",
    "ax.legend()\n"
   ]
  }
 ],
 "metadata": {
  "kernelspec": {
   "display_name": "Python 3",
   "language": "python",
   "name": "python3"
  },
  "language_info": {
   "codemirror_mode": {
    "name": "ipython",
    "version": 3
   },
   "file_extension": ".py",
   "mimetype": "text/x-python",
   "name": "python",
   "nbconvert_exporter": "python",
   "pygments_lexer": "ipython3",
   "version": "3.7.4"
  },
  "widgets": {
   "application/vnd.jupyter.widget-state+json": {
    "state": {
     "006aff1da1474a899f2d096ded08154e": {
      "model_module": "@jupyter-widgets/controls",
      "model_module_version": "1.5.0",
      "model_name": "IntProgressModel",
      "state": {
       "bar_style": "danger",
       "description": "  0%",
       "layout": "IPY_MODEL_93044ecbd24a43478e294f020a52f852",
       "max": 33808,
       "style": "IPY_MODEL_de90474772aa4fb9980228f5ed55db92",
       "value": 1
      }
     },
     "013845f9a44740e4986b1bb6a293c6c3": {
      "model_module": "@jupyter-widgets/base",
      "model_module_version": "1.2.0",
      "model_name": "LayoutModel",
      "state": {}
     },
     "0216c7a90336472285d0a4b3fb38916a": {
      "model_module": "@jupyter-widgets/controls",
      "model_module_version": "1.5.0",
      "model_name": "ProgressStyleModel",
      "state": {
       "description_width": "initial"
      }
     },
     "0362f26a81b2450db3b5ad92f6271f28": {
      "model_module": "@jupyter-widgets/controls",
      "model_module_version": "1.5.0",
      "model_name": "HTMLModel",
      "state": {
       "layout": "IPY_MODEL_edfd223b356f4443b7d92f7d43cc9258",
       "style": "IPY_MODEL_6ae17cef546c45948c78c25aaa73de4e",
       "value": " 1/33808 [00:00&lt;4:30:27,  2.08it/s]"
      }
     },
     "0617b379c561455eb0e28300504755cd": {
      "model_module": "@jupyter-widgets/base",
      "model_module_version": "1.2.0",
      "model_name": "LayoutModel",
      "state": {}
     },
     "061845f9cd9d4de2a3b3b088dcc38717": {
      "model_module": "@jupyter-widgets/controls",
      "model_module_version": "1.5.0",
      "model_name": "IntProgressModel",
      "state": {
       "bar_style": "danger",
       "description": "  0%",
       "layout": "IPY_MODEL_3c28b70026734e9e916213655e238652",
       "max": 33808,
       "style": "IPY_MODEL_5faf10f246094a7baaa0013e9cfe60d8"
      }
     },
     "072a5a0645ee4892a6322f0c0564e317": {
      "model_module": "@jupyter-widgets/base",
      "model_module_version": "1.2.0",
      "model_name": "LayoutModel",
      "state": {}
     },
     "08b9f4fe0f734683ae0eb43fb4528844": {
      "model_module": "@jupyter-widgets/controls",
      "model_module_version": "1.5.0",
      "model_name": "HTMLModel",
      "state": {
       "layout": "IPY_MODEL_0617b379c561455eb0e28300504755cd",
       "style": "IPY_MODEL_36a7b2b0e1424b719cd7aff8e32551f8",
       "value": " 1/33808 [00:01&lt;9:40:28,  1.03s/it]"
      }
     },
     "099e6430cc5345218297ce654f36b1c3": {
      "model_module": "@jupyter-widgets/base",
      "model_module_version": "1.2.0",
      "model_name": "LayoutModel",
      "state": {}
     },
     "09eaa81ec1b94b6aaa65f0483ce8b38b": {
      "model_module": "@jupyter-widgets/controls",
      "model_module_version": "1.5.0",
      "model_name": "ProgressStyleModel",
      "state": {
       "description_width": "initial"
      }
     },
     "0b17492c20db4486937f31be7b634e13": {
      "model_module": "@jupyter-widgets/controls",
      "model_module_version": "1.5.0",
      "model_name": "HBoxModel",
      "state": {
       "children": [
        "IPY_MODEL_9cf815a9621c465cb86ed3d83a8539d4",
        "IPY_MODEL_d2bed5c1a99e4462b0a8b38f06817c01"
       ],
       "layout": "IPY_MODEL_498dc33eb16f40179438696cc7ab6909"
      }
     },
     "0b4113972d6446978c13eb3042f95762": {
      "model_module": "@jupyter-widgets/controls",
      "model_module_version": "1.5.0",
      "model_name": "HTMLModel",
      "state": {
       "layout": "IPY_MODEL_f5f49c88fccb42219151e6fb9695dff6",
       "style": "IPY_MODEL_1e51621c548b4076ac19a6c743ec1d98",
       "value": " 0/33808 [00:00&lt;?, ?it/s]"
      }
     },
     "0caeeec36afd4294808e1d3c71477ae5": {
      "model_module": "@jupyter-widgets/base",
      "model_module_version": "1.2.0",
      "model_name": "LayoutModel",
      "state": {}
     },
     "0cb4dca42bb14f0ab125c68b93510ef3": {
      "model_module": "@jupyter-widgets/base",
      "model_module_version": "1.2.0",
      "model_name": "LayoutModel",
      "state": {}
     },
     "0cd9f02ca5c54ae3b0d49ed31df2f4d1": {
      "model_module": "@jupyter-widgets/base",
      "model_module_version": "1.2.0",
      "model_name": "LayoutModel",
      "state": {}
     },
     "0d853c6da0c146fa87e40111f77e0882": {
      "model_module": "@jupyter-widgets/base",
      "model_module_version": "1.2.0",
      "model_name": "LayoutModel",
      "state": {}
     },
     "0e226209fcc54289bb91f106b5759434": {
      "model_module": "@jupyter-widgets/controls",
      "model_module_version": "1.5.0",
      "model_name": "HBoxModel",
      "state": {
       "children": [
        "IPY_MODEL_e175b4f293dd423f9337740644039c1b",
        "IPY_MODEL_e8abf42de94d4b25bd1fe7c9f55c96be"
       ],
       "layout": "IPY_MODEL_b678d9a47d1a434ba2878007bde63597"
      }
     },
     "0e5fd08bc3a742ee8c2445a75b8780c7": {
      "model_module": "@jupyter-widgets/base",
      "model_module_version": "1.2.0",
      "model_name": "LayoutModel",
      "state": {}
     },
     "0f07453a64bc4af6a735104c3bca02e5": {
      "model_module": "@jupyter-widgets/controls",
      "model_module_version": "1.5.0",
      "model_name": "HBoxModel",
      "state": {
       "children": [
        "IPY_MODEL_564d36639f3640e48f447f57f97edf68",
        "IPY_MODEL_0fa0243e7e234dc99e2cd39ffcce1367"
       ],
       "layout": "IPY_MODEL_18d828092dad4702bc1b7b05f63d59d1"
      }
     },
     "0fa0243e7e234dc99e2cd39ffcce1367": {
      "model_module": "@jupyter-widgets/controls",
      "model_module_version": "1.5.0",
      "model_name": "HTMLModel",
      "state": {
       "layout": "IPY_MODEL_ec6ab4115508419da05f8c9dc505a838",
       "style": "IPY_MODEL_6850072f2651461dab9dfd9412d8b8e6",
       "value": " 0/33808 [00:00&lt;?, ?it/s]"
      }
     },
     "1132b561f790442e9baaff3893efaec9": {
      "model_module": "@jupyter-widgets/controls",
      "model_module_version": "1.5.0",
      "model_name": "ProgressStyleModel",
      "state": {
       "description_width": "initial"
      }
     },
     "11912e2d99cf40868cd7024cd643e42b": {
      "model_module": "@jupyter-widgets/controls",
      "model_module_version": "1.5.0",
      "model_name": "IntProgressModel",
      "state": {
       "bar_style": "danger",
       "description": "  0%",
       "layout": "IPY_MODEL_d8394ef5a6e24e8f947412018179de8a",
       "max": 33808,
       "style": "IPY_MODEL_f2fb47f5679844ca9e1428d3aa6db952",
       "value": 14
      }
     },
     "135b3abeb3884905add9c8273d3e353b": {
      "model_module": "@jupyter-widgets/base",
      "model_module_version": "1.2.0",
      "model_name": "LayoutModel",
      "state": {}
     },
     "14f5743b9e214881a17308159f4c3f7c": {
      "model_module": "@jupyter-widgets/controls",
      "model_module_version": "1.5.0",
      "model_name": "IntProgressModel",
      "state": {
       "bar_style": "danger",
       "description": "  0%",
       "layout": "IPY_MODEL_135b3abeb3884905add9c8273d3e353b",
       "max": 33808,
       "style": "IPY_MODEL_acf590ced9db42b2ad45a0dbd2f14579",
       "value": 1
      }
     },
     "1590f990e0cf413eb15d1d3fcfaaf2fe": {
      "model_module": "@jupyter-widgets/controls",
      "model_module_version": "1.5.0",
      "model_name": "IntProgressModel",
      "state": {
       "bar_style": "danger",
       "description": "  0%",
       "layout": "IPY_MODEL_8eacf11e1f11419cb603d6bc2578fb1c",
       "max": 33808,
       "style": "IPY_MODEL_ccb2ea6e27934f91a227b204f591aa67"
      }
     },
     "17092bcac1324ff1986d4a7bc39ae201": {
      "model_module": "@jupyter-widgets/controls",
      "model_module_version": "1.5.0",
      "model_name": "IntProgressModel",
      "state": {
       "bar_style": "danger",
       "description": "  0%",
       "layout": "IPY_MODEL_454dcec9ec2e4b5dbb1661345dbbed2d",
       "max": 33808,
       "style": "IPY_MODEL_c82e498311f44efaa8526f525c3b1c45",
       "value": 1
      }
     },
     "18d828092dad4702bc1b7b05f63d59d1": {
      "model_module": "@jupyter-widgets/base",
      "model_module_version": "1.2.0",
      "model_name": "LayoutModel",
      "state": {}
     },
     "190889bf510947d4a2fa3bc5dbcf4b06": {
      "model_module": "@jupyter-widgets/base",
      "model_module_version": "1.2.0",
      "model_name": "LayoutModel",
      "state": {}
     },
     "194fd95953634117a102c7676e5e88b8": {
      "model_module": "@jupyter-widgets/controls",
      "model_module_version": "1.5.0",
      "model_name": "ProgressStyleModel",
      "state": {
       "description_width": "initial"
      }
     },
     "199da9995ffe4a929096a5fb488b8f8f": {
      "model_module": "@jupyter-widgets/controls",
      "model_module_version": "1.5.0",
      "model_name": "IntProgressModel",
      "state": {
       "bar_style": "danger",
       "description": "  0%",
       "layout": "IPY_MODEL_f783ea1e7c0e4a1590aae382717d9e6f",
       "max": 6762,
       "style": "IPY_MODEL_892c2b00a56c4baab2cc3fae1a037ed1",
       "value": 14
      }
     },
     "19dd11a57d054ab18387b713aa5b4f26": {
      "model_module": "@jupyter-widgets/controls",
      "model_module_version": "1.5.0",
      "model_name": "DescriptionStyleModel",
      "state": {
       "description_width": ""
      }
     },
     "1a072728259043f5858e0a0a57853e89": {
      "model_module": "@jupyter-widgets/controls",
      "model_module_version": "1.5.0",
      "model_name": "HBoxModel",
      "state": {
       "children": [
        "IPY_MODEL_2d13697dc3884af1a00bebbf43d03c4d",
        "IPY_MODEL_08b9f4fe0f734683ae0eb43fb4528844"
       ],
       "layout": "IPY_MODEL_a766c4ebf8154235a173c87a332cfbf6"
      }
     },
     "1af44bc200e64f4daf64c0fd4613f231": {
      "model_module": "@jupyter-widgets/controls",
      "model_module_version": "1.5.0",
      "model_name": "DescriptionStyleModel",
      "state": {
       "description_width": ""
      }
     },
     "1d4bb3f6c98f4d56b67d8b3e9a2969e6": {
      "model_module": "@jupyter-widgets/controls",
      "model_module_version": "1.5.0",
      "model_name": "IntProgressModel",
      "state": {
       "bar_style": "danger",
       "description": "  0%",
       "layout": "IPY_MODEL_885ce6ec492640d2a3f1a5c1ba4be56c",
       "max": 33808,
       "style": "IPY_MODEL_5ad83c2263b14b049d1752d47ce5d8ef",
       "value": 1
      }
     },
     "1e495e0956dd4b49b9a04677b004bd3c": {
      "model_module": "@jupyter-widgets/controls",
      "model_module_version": "1.5.0",
      "model_name": "HTMLModel",
      "state": {
       "layout": "IPY_MODEL_072a5a0645ee4892a6322f0c0564e317",
       "style": "IPY_MODEL_6c5f35a986d5482e9bafbee729f992c3",
       "value": " 1/33808 [00:00&lt;8:36:33,  1.09it/s]"
      }
     },
     "1e51621c548b4076ac19a6c743ec1d98": {
      "model_module": "@jupyter-widgets/controls",
      "model_module_version": "1.5.0",
      "model_name": "DescriptionStyleModel",
      "state": {
       "description_width": ""
      }
     },
     "1f130576c1b145ac9442fd1c6afd3f1f": {
      "model_module": "@jupyter-widgets/base",
      "model_module_version": "1.2.0",
      "model_name": "LayoutModel",
      "state": {}
     },
     "1f1ad13216b046d3ac219dc221c1b2e1": {
      "model_module": "@jupyter-widgets/base",
      "model_module_version": "1.2.0",
      "model_name": "LayoutModel",
      "state": {}
     },
     "1f8577af1e4d4e539eb6d0cfd7fac641": {
      "model_module": "@jupyter-widgets/base",
      "model_module_version": "1.2.0",
      "model_name": "LayoutModel",
      "state": {}
     },
     "1fae927296f44ce7b36a5074c33e22ff": {
      "model_module": "@jupyter-widgets/controls",
      "model_module_version": "1.5.0",
      "model_name": "HBoxModel",
      "state": {
       "children": [
        "IPY_MODEL_eed760a345c74cc0b6cafe044a9aaccb",
        "IPY_MODEL_da3dd64b737649daa2717412570eb205"
       ],
       "layout": "IPY_MODEL_beab27bb34784ea3aba212ed4e74546e"
      }
     },
     "201d516d74fd42fc8249e573b2785ca8": {
      "model_module": "@jupyter-widgets/controls",
      "model_module_version": "1.5.0",
      "model_name": "IntProgressModel",
      "state": {
       "bar_style": "danger",
       "description": "  0%",
       "layout": "IPY_MODEL_c278dedc4720451c92f43be985214097",
       "max": 33808,
       "style": "IPY_MODEL_20d7204b45624ccd96bb56f424e27dce",
       "value": 10
      }
     },
     "2062e1e4efe249578284028972b33aa4": {
      "model_module": "@jupyter-widgets/controls",
      "model_module_version": "1.5.0",
      "model_name": "HTMLModel",
      "state": {
       "layout": "IPY_MODEL_54691a31a917477294703eb23f146c4d",
       "style": "IPY_MODEL_71545c37877c4e50ac4ae9425580a885",
       "value": " 0/33808 [00:00&lt;?, ?it/s]"
      }
     },
     "2098e5a933f24a34987e27e07e8dedc1": {
      "model_module": "@jupyter-widgets/base",
      "model_module_version": "1.2.0",
      "model_name": "LayoutModel",
      "state": {}
     },
     "209a2300216b4157ac2e3b65d37c8616": {
      "model_module": "@jupyter-widgets/controls",
      "model_module_version": "1.5.0",
      "model_name": "IntProgressModel",
      "state": {
       "bar_style": "danger",
       "description": "  0%",
       "layout": "IPY_MODEL_37405e39bcc543bd941ae48572bb9ade",
       "max": 33808,
       "style": "IPY_MODEL_dc710930322a4caf89e9aac80c138bb5",
       "value": 9
      }
     },
     "20ae9db17a45475eadf2079bfb2a6639": {
      "model_module": "@jupyter-widgets/controls",
      "model_module_version": "1.5.0",
      "model_name": "HTMLModel",
      "state": {
       "layout": "IPY_MODEL_c52ddcf5037a49bdaa0e85028734646d",
       "style": "IPY_MODEL_ccb2210238eb4f56984196b13dfa4fcc",
       "value": " 0/33808 [00:00&lt;?, ?it/s]"
      }
     },
     "20d7204b45624ccd96bb56f424e27dce": {
      "model_module": "@jupyter-widgets/controls",
      "model_module_version": "1.5.0",
      "model_name": "ProgressStyleModel",
      "state": {
       "description_width": "initial"
      }
     },
     "2260cee2dd9e4d0594d94f9994c082e3": {
      "model_module": "@jupyter-widgets/controls",
      "model_module_version": "1.5.0",
      "model_name": "ProgressStyleModel",
      "state": {
       "description_width": "initial"
      }
     },
     "23d91e5eb2824f76a97e6eb9c96b4461": {
      "model_module": "@jupyter-widgets/base",
      "model_module_version": "1.2.0",
      "model_name": "LayoutModel",
      "state": {}
     },
     "24181edd84e8402fabae52f0c5837e8c": {
      "model_module": "@jupyter-widgets/controls",
      "model_module_version": "1.5.0",
      "model_name": "HBoxModel",
      "state": {
       "children": [
        "IPY_MODEL_e563c7992dff4a36a436496a42035e35",
        "IPY_MODEL_a71cbe997dc0425a95f4f4c5e559d60c"
       ],
       "layout": "IPY_MODEL_a13b6ed2bcae4351906675bb49970308"
      }
     },
     "2453f2e7e299463cb540c4313decf7e3": {
      "model_module": "@jupyter-widgets/controls",
      "model_module_version": "1.5.0",
      "model_name": "HBoxModel",
      "state": {
       "children": [
        "IPY_MODEL_061845f9cd9d4de2a3b3b088dcc38717",
        "IPY_MODEL_389b30e3e6b44acf813f9655ca6e900b"
       ],
       "layout": "IPY_MODEL_492f287e04654560abbbfc2a28207bb4"
      }
     },
     "2753429b902d4edd91f3a5473e40caf8": {
      "model_module": "@jupyter-widgets/controls",
      "model_module_version": "1.5.0",
      "model_name": "HBoxModel",
      "state": {
       "children": [
        "IPY_MODEL_fc7da7f23f184de6b0f1ccc6d6cbbeaf",
        "IPY_MODEL_8996212163d148109c7c8417c1fb79a6"
       ],
       "layout": "IPY_MODEL_e32daa70e137462bb1b048f954793267"
      }
     },
     "27628d1b0a38411cad072e2ee7cb3980": {
      "model_module": "@jupyter-widgets/controls",
      "model_module_version": "1.5.0",
      "model_name": "ProgressStyleModel",
      "state": {
       "description_width": "initial"
      }
     },
     "2830ae2d408c45ebb85a2c231f17651a": {
      "model_module": "@jupyter-widgets/controls",
      "model_module_version": "1.5.0",
      "model_name": "ProgressStyleModel",
      "state": {
       "description_width": "initial"
      }
     },
     "2891b4185abd4173ae86ea28eb6576e3": {
      "model_module": "@jupyter-widgets/controls",
      "model_module_version": "1.5.0",
      "model_name": "ProgressStyleModel",
      "state": {
       "description_width": "initial"
      }
     },
     "2a6af4e7a7294721a56bbd0cf8bf76af": {
      "model_module": "@jupyter-widgets/controls",
      "model_module_version": "1.5.0",
      "model_name": "DescriptionStyleModel",
      "state": {
       "description_width": ""
      }
     },
     "2ba47e6c86ef4d8683c420ae4edbfbe0": {
      "model_module": "@jupyter-widgets/controls",
      "model_module_version": "1.5.0",
      "model_name": "HTMLModel",
      "state": {
       "layout": "IPY_MODEL_7b891f756ef648f2ad65ea7507882f6b",
       "style": "IPY_MODEL_d28ef8b63d974bb8ae109afbbd023627",
       "value": " 9/33808 [00:03&lt;3:48:31,  2.46it/s]"
      }
     },
     "2d13697dc3884af1a00bebbf43d03c4d": {
      "model_module": "@jupyter-widgets/controls",
      "model_module_version": "1.5.0",
      "model_name": "IntProgressModel",
      "state": {
       "bar_style": "danger",
       "description": "  0%",
       "layout": "IPY_MODEL_d359a45d608941d7bfae1913d7f0657e",
       "max": 33808,
       "style": "IPY_MODEL_ae84a19a164e4487905c07afae1a7260",
       "value": 1
      }
     },
     "2e52046ea4924ed9991a2d1fcbee23d9": {
      "model_module": "@jupyter-widgets/base",
      "model_module_version": "1.2.0",
      "model_name": "LayoutModel",
      "state": {}
     },
     "2edad309e6594b4fa7ebb881307512d8": {
      "model_module": "@jupyter-widgets/controls",
      "model_module_version": "1.5.0",
      "model_name": "DescriptionStyleModel",
      "state": {
       "description_width": ""
      }
     },
     "30639f1693dc4028a243e248587a5071": {
      "model_module": "@jupyter-widgets/controls",
      "model_module_version": "1.5.0",
      "model_name": "DescriptionStyleModel",
      "state": {
       "description_width": ""
      }
     },
     "30891f80ab614cce9ab347fdba260599": {
      "model_module": "@jupyter-widgets/controls",
      "model_module_version": "1.5.0",
      "model_name": "HTMLModel",
      "state": {
       "layout": "IPY_MODEL_55d491b1477a4a8e9eb20647227b02fe",
       "style": "IPY_MODEL_66931dd9bab142e4ace445fe39a42b1a",
       "value": " 1/33808 [00:01&lt;10:00:58,  1.07s/it]"
      }
     },
     "30f96d791285472ebac98d051e45ed6d": {
      "model_module": "@jupyter-widgets/base",
      "model_module_version": "1.2.0",
      "model_name": "LayoutModel",
      "state": {}
     },
     "332392b17ab84930ab68671e85bd3a98": {
      "model_module": "@jupyter-widgets/controls",
      "model_module_version": "1.5.0",
      "model_name": "IntProgressModel",
      "state": {
       "bar_style": "danger",
       "description": "  0%",
       "layout": "IPY_MODEL_afaa82ea21f64ed78ccc38a81abda913",
       "max": 33808,
       "style": "IPY_MODEL_9b7cd4ce376c4b76aad14e80241c4c2f"
      }
     },
     "351fc4a1e0f44618a6ae47b6fac57ecb": {
      "model_module": "@jupyter-widgets/controls",
      "model_module_version": "1.5.0",
      "model_name": "HBoxModel",
      "state": {
       "children": [
        "IPY_MODEL_ebc5bb2a32c9434bb7381d9462c4f060",
        "IPY_MODEL_20ae9db17a45475eadf2079bfb2a6639"
       ],
       "layout": "IPY_MODEL_2098e5a933f24a34987e27e07e8dedc1"
      }
     },
     "36a7b2b0e1424b719cd7aff8e32551f8": {
      "model_module": "@jupyter-widgets/controls",
      "model_module_version": "1.5.0",
      "model_name": "DescriptionStyleModel",
      "state": {
       "description_width": ""
      }
     },
     "36cde8883af74fc086743f5ad60ad96e": {
      "model_module": "@jupyter-widgets/controls",
      "model_module_version": "1.5.0",
      "model_name": "DescriptionStyleModel",
      "state": {
       "description_width": ""
      }
     },
     "373540baee114b369b617c2214b7f279": {
      "model_module": "@jupyter-widgets/controls",
      "model_module_version": "1.5.0",
      "model_name": "ProgressStyleModel",
      "state": {
       "description_width": "initial"
      }
     },
     "37405e39bcc543bd941ae48572bb9ade": {
      "model_module": "@jupyter-widgets/base",
      "model_module_version": "1.2.0",
      "model_name": "LayoutModel",
      "state": {}
     },
     "375e30e33c564d24923b852ae9bde01e": {
      "model_module": "@jupyter-widgets/controls",
      "model_module_version": "1.5.0",
      "model_name": "DescriptionStyleModel",
      "state": {
       "description_width": ""
      }
     },
     "389b30e3e6b44acf813f9655ca6e900b": {
      "model_module": "@jupyter-widgets/controls",
      "model_module_version": "1.5.0",
      "model_name": "HTMLModel",
      "state": {
       "layout": "IPY_MODEL_97ad71fa1b2340b3b95f78c07d2d7da5",
       "style": "IPY_MODEL_3ca0a16bfc9d4690b54905d218b12fd9",
       "value": " 0/33808 [00:00&lt;?, ?it/s]"
      }
     },
     "3bcc92062da64032b9799b245fa4c3d3": {
      "model_module": "@jupyter-widgets/controls",
      "model_module_version": "1.5.0",
      "model_name": "HTMLModel",
      "state": {
       "layout": "IPY_MODEL_190889bf510947d4a2fa3bc5dbcf4b06",
       "style": "IPY_MODEL_cbdfaafbedb848bbb61cb3db9f165723",
       "value": " 0/33808 [00:00&lt;?, ?it/s]"
      }
     },
     "3c28b70026734e9e916213655e238652": {
      "model_module": "@jupyter-widgets/base",
      "model_module_version": "1.2.0",
      "model_name": "LayoutModel",
      "state": {}
     },
     "3ca0a16bfc9d4690b54905d218b12fd9": {
      "model_module": "@jupyter-widgets/controls",
      "model_module_version": "1.5.0",
      "model_name": "DescriptionStyleModel",
      "state": {
       "description_width": ""
      }
     },
     "3ce1b788151444c887901a4f52c5d0a1": {
      "model_module": "@jupyter-widgets/controls",
      "model_module_version": "1.5.0",
      "model_name": "DescriptionStyleModel",
      "state": {
       "description_width": ""
      }
     },
     "3e03921e15494f7e8982aa02c2ff2169": {
      "model_module": "@jupyter-widgets/controls",
      "model_module_version": "1.5.0",
      "model_name": "IntProgressModel",
      "state": {
       "bar_style": "danger",
       "description": "  0%",
       "layout": "IPY_MODEL_cd74f56ef0ab4da9a22bc75138dc2ba4",
       "max": 33808,
       "style": "IPY_MODEL_f146b636b6e447a685d4512dc1fc597a"
      }
     },
     "3eab0b0689714b4584e7e1a2c87efa77": {
      "model_module": "@jupyter-widgets/controls",
      "model_module_version": "1.5.0",
      "model_name": "IntProgressModel",
      "state": {
       "bar_style": "danger",
       "description": "  0%",
       "layout": "IPY_MODEL_913adccc2d9247b99a073cca46b6db75",
       "max": 33808,
       "style": "IPY_MODEL_1132b561f790442e9baaff3893efaec9"
      }
     },
     "3f60b000cc2d4643bfed07cda4e54115": {
      "model_module": "@jupyter-widgets/controls",
      "model_module_version": "1.5.0",
      "model_name": "HBoxModel",
      "state": {
       "children": [
        "IPY_MODEL_d799030f8ebc475a9909681606b92c2c",
        "IPY_MODEL_1e495e0956dd4b49b9a04677b004bd3c"
       ],
       "layout": "IPY_MODEL_ddc214d9aec9416ebcab0710ec27aca3"
      }
     },
     "405a573c742740009a236bd06fdb9f84": {
      "model_module": "@jupyter-widgets/controls",
      "model_module_version": "1.5.0",
      "model_name": "ProgressStyleModel",
      "state": {
       "description_width": "initial"
      }
     },
     "40cb3552e74a46c1bc856324d682171a": {
      "model_module": "@jupyter-widgets/controls",
      "model_module_version": "1.5.0",
      "model_name": "HBoxModel",
      "state": {
       "children": [
        "IPY_MODEL_daea6c36be534cd7ad73c65e2cca3218",
        "IPY_MODEL_fb804d9726f840ff84807def2bc1e805"
       ],
       "layout": "IPY_MODEL_1f130576c1b145ac9442fd1c6afd3f1f"
      }
     },
     "41f4313c98744f74a465bd8f44797cd8": {
      "model_module": "@jupyter-widgets/controls",
      "model_module_version": "1.5.0",
      "model_name": "ProgressStyleModel",
      "state": {
       "description_width": "initial"
      }
     },
     "42f12c8b7c61468eb5e158d15e000c33": {
      "model_module": "@jupyter-widgets/controls",
      "model_module_version": "1.5.0",
      "model_name": "HTMLModel",
      "state": {
       "layout": "IPY_MODEL_5e4035d0cbb14d36ac9d680dd329231f",
       "style": "IPY_MODEL_7f9e5f8a65314d9283a6968dc6b7d7f7",
       "value": " 1/33808 [00:01&lt;9:52:55,  1.05s/it]"
      }
     },
     "43da791b98ff40a0adae48b4615b26a9": {
      "model_module": "@jupyter-widgets/base",
      "model_module_version": "1.2.0",
      "model_name": "LayoutModel",
      "state": {}
     },
     "448dfd8bdd1e4f47885c41cdc38c0bbd": {
      "model_module": "@jupyter-widgets/base",
      "model_module_version": "1.2.0",
      "model_name": "LayoutModel",
      "state": {}
     },
     "453051e504f5423d83429b631ca066bf": {
      "model_module": "@jupyter-widgets/controls",
      "model_module_version": "1.5.0",
      "model_name": "ProgressStyleModel",
      "state": {
       "description_width": "initial"
      }
     },
     "454dcec9ec2e4b5dbb1661345dbbed2d": {
      "model_module": "@jupyter-widgets/base",
      "model_module_version": "1.2.0",
      "model_name": "LayoutModel",
      "state": {}
     },
     "4709d4f3d7f74d1d8218181949f0e191": {
      "model_module": "@jupyter-widgets/controls",
      "model_module_version": "1.5.0",
      "model_name": "HTMLModel",
      "state": {
       "layout": "IPY_MODEL_65f91de591f8412db518c79a062845da",
       "style": "IPY_MODEL_db6191255ead4f5eaca0e484880099e7",
       "value": " 14/6762 [00:27&lt;2:59:48,  1.60s/it]"
      }
     },
     "49121416155c40ddb692c41bafb600dd": {
      "model_module": "@jupyter-widgets/base",
      "model_module_version": "1.2.0",
      "model_name": "LayoutModel",
      "state": {}
     },
     "492f287e04654560abbbfc2a28207bb4": {
      "model_module": "@jupyter-widgets/base",
      "model_module_version": "1.2.0",
      "model_name": "LayoutModel",
      "state": {}
     },
     "498dc33eb16f40179438696cc7ab6909": {
      "model_module": "@jupyter-widgets/base",
      "model_module_version": "1.2.0",
      "model_name": "LayoutModel",
      "state": {}
     },
     "49d526b0d51f44c0af43877bc0fbb963": {
      "model_module": "@jupyter-widgets/base",
      "model_module_version": "1.2.0",
      "model_name": "LayoutModel",
      "state": {}
     },
     "49dac45f446d43edac64a668cf4849b4": {
      "model_module": "@jupyter-widgets/base",
      "model_module_version": "1.2.0",
      "model_name": "LayoutModel",
      "state": {}
     },
     "4b8fda2912bc4485a0902da3fe6a5bf3": {
      "model_module": "@jupyter-widgets/controls",
      "model_module_version": "1.5.0",
      "model_name": "IntProgressModel",
      "state": {
       "bar_style": "danger",
       "description": "  0%",
       "layout": "IPY_MODEL_d36e3f4e7c644d00875e30bb53933d65",
       "max": 33808,
       "style": "IPY_MODEL_09eaa81ec1b94b6aaa65f0483ce8b38b",
       "value": 1
      }
     },
     "4ded6d359efe439d8d838de46aa4abc7": {
      "model_module": "@jupyter-widgets/base",
      "model_module_version": "1.2.0",
      "model_name": "LayoutModel",
      "state": {}
     },
     "4e6e58adba324827b5e3fbb28144ab87": {
      "model_module": "@jupyter-widgets/controls",
      "model_module_version": "1.5.0",
      "model_name": "ProgressStyleModel",
      "state": {
       "description_width": "initial"
      }
     },
     "4ed5116f53ea49edbf64b70218908ffe": {
      "model_module": "@jupyter-widgets/controls",
      "model_module_version": "1.5.0",
      "model_name": "ProgressStyleModel",
      "state": {
       "description_width": "initial"
      }
     },
     "505d12234e56428386d6db169b4bbcc2": {
      "model_module": "@jupyter-widgets/base",
      "model_module_version": "1.2.0",
      "model_name": "LayoutModel",
      "state": {}
     },
     "528eccd360e94e7b9ee7333449ae3312": {
      "model_module": "@jupyter-widgets/base",
      "model_module_version": "1.2.0",
      "model_name": "LayoutModel",
      "state": {}
     },
     "54691a31a917477294703eb23f146c4d": {
      "model_module": "@jupyter-widgets/base",
      "model_module_version": "1.2.0",
      "model_name": "LayoutModel",
      "state": {}
     },
     "5508d5f2c11e4b779a0f879ced5509dc": {
      "model_module": "@jupyter-widgets/controls",
      "model_module_version": "1.5.0",
      "model_name": "IntProgressModel",
      "state": {
       "bar_style": "danger",
       "description": "  0%",
       "layout": "IPY_MODEL_aeee1e004e184f7ab6c300ed199db4c9",
       "max": 33808,
       "style": "IPY_MODEL_8f83424276fe45e4af2d0372b36777da",
       "value": 13
      }
     },
     "555aef8439f344d5bdc7317ae4da0e4c": {
      "model_module": "@jupyter-widgets/controls",
      "model_module_version": "1.5.0",
      "model_name": "HBoxModel",
      "state": {
       "children": [
        "IPY_MODEL_563bb60cdae84790b3244b20fbebfedc",
        "IPY_MODEL_0b4113972d6446978c13eb3042f95762"
       ],
       "layout": "IPY_MODEL_ee9c48f13d4945d39029b5f9943f0b23"
      }
     },
     "55d491b1477a4a8e9eb20647227b02fe": {
      "model_module": "@jupyter-widgets/base",
      "model_module_version": "1.2.0",
      "model_name": "LayoutModel",
      "state": {}
     },
     "563bb60cdae84790b3244b20fbebfedc": {
      "model_module": "@jupyter-widgets/controls",
      "model_module_version": "1.5.0",
      "model_name": "IntProgressModel",
      "state": {
       "bar_style": "danger",
       "description": "  0%",
       "layout": "IPY_MODEL_82a2eadb3a524e769b2ce1fba45bcc65",
       "max": 33808,
       "style": "IPY_MODEL_d40d48acd38a4a7a9ec55f81e75eb5e4"
      }
     },
     "564d36639f3640e48f447f57f97edf68": {
      "model_module": "@jupyter-widgets/controls",
      "model_module_version": "1.5.0",
      "model_name": "IntProgressModel",
      "state": {
       "bar_style": "danger",
       "description": "  0%",
       "layout": "IPY_MODEL_8b4d9a3f5c7d4a19b5b2b64038cc7fd5",
       "max": 33808,
       "style": "IPY_MODEL_4ed5116f53ea49edbf64b70218908ffe"
      }
     },
     "56df3ec2c19a42dfa007f0f957bbafbe": {
      "model_module": "@jupyter-widgets/controls",
      "model_module_version": "1.5.0",
      "model_name": "HBoxModel",
      "state": {
       "children": [
        "IPY_MODEL_006aff1da1474a899f2d096ded08154e",
        "IPY_MODEL_ac79999cfd3c4feca6cc71e86a907267"
       ],
       "layout": "IPY_MODEL_fe0187e8f2a34dc8ac4be0085051e3d6"
      }
     },
     "5766cf2d4a7f4fa89855861a7c8f5d1b": {
      "model_module": "@jupyter-widgets/base",
      "model_module_version": "1.2.0",
      "model_name": "LayoutModel",
      "state": {}
     },
     "596d3d87bfbb4362bc8c20f54c63d380": {
      "model_module": "@jupyter-widgets/base",
      "model_module_version": "1.2.0",
      "model_name": "LayoutModel",
      "state": {}
     },
     "5ad83c2263b14b049d1752d47ce5d8ef": {
      "model_module": "@jupyter-widgets/controls",
      "model_module_version": "1.5.0",
      "model_name": "ProgressStyleModel",
      "state": {
       "description_width": "initial"
      }
     },
     "5b4c9ef6573d4909b9e88482ab9b110c": {
      "model_module": "@jupyter-widgets/base",
      "model_module_version": "1.2.0",
      "model_name": "LayoutModel",
      "state": {}
     },
     "5bdb3d50f7204ccd8e63c4b6314ad960": {
      "model_module": "@jupyter-widgets/controls",
      "model_module_version": "1.5.0",
      "model_name": "IntProgressModel",
      "state": {
       "bar_style": "danger",
       "description": "  0%",
       "layout": "IPY_MODEL_e1b8624fcd7e4d51b7bafb21cf77eced",
       "max": 33808,
       "style": "IPY_MODEL_41f4313c98744f74a465bd8f44797cd8"
      }
     },
     "5c1ddaa9cd834809beee9374004d9557": {
      "model_module": "@jupyter-widgets/base",
      "model_module_version": "1.2.0",
      "model_name": "LayoutModel",
      "state": {}
     },
     "5c2c318e309045549fb95255741ff748": {
      "model_module": "@jupyter-widgets/controls",
      "model_module_version": "1.5.0",
      "model_name": "ProgressStyleModel",
      "state": {
       "description_width": "initial"
      }
     },
     "5c472fccb9154cdca218b9434a17986c": {
      "model_module": "@jupyter-widgets/controls",
      "model_module_version": "1.5.0",
      "model_name": "HTMLModel",
      "state": {
       "layout": "IPY_MODEL_7e2afc0b52e0479a88cd226b36ca8e18",
       "style": "IPY_MODEL_b744285416ef4eee8a779a33dc409ebc",
       "value": " 14/6762 [00:23&lt;2:57:53,  1.58s/it]"
      }
     },
     "5d893212100c4b359929c9106ff4f7c4": {
      "model_module": "@jupyter-widgets/controls",
      "model_module_version": "1.5.0",
      "model_name": "ProgressStyleModel",
      "state": {
       "description_width": "initial"
      }
     },
     "5e4035d0cbb14d36ac9d680dd329231f": {
      "model_module": "@jupyter-widgets/base",
      "model_module_version": "1.2.0",
      "model_name": "LayoutModel",
      "state": {}
     },
     "5faf10f246094a7baaa0013e9cfe60d8": {
      "model_module": "@jupyter-widgets/controls",
      "model_module_version": "1.5.0",
      "model_name": "ProgressStyleModel",
      "state": {
       "description_width": "initial"
      }
     },
     "63a8ba8f54914a33ad9c9db0bda6499c": {
      "model_module": "@jupyter-widgets/base",
      "model_module_version": "1.2.0",
      "model_name": "LayoutModel",
      "state": {}
     },
     "65f91de591f8412db518c79a062845da": {
      "model_module": "@jupyter-widgets/base",
      "model_module_version": "1.2.0",
      "model_name": "LayoutModel",
      "state": {}
     },
     "66931dd9bab142e4ace445fe39a42b1a": {
      "model_module": "@jupyter-widgets/controls",
      "model_module_version": "1.5.0",
      "model_name": "DescriptionStyleModel",
      "state": {
       "description_width": ""
      }
     },
     "6811bd7589634dcf92b9591688564cea": {
      "model_module": "@jupyter-widgets/base",
      "model_module_version": "1.2.0",
      "model_name": "LayoutModel",
      "state": {}
     },
     "6850072f2651461dab9dfd9412d8b8e6": {
      "model_module": "@jupyter-widgets/controls",
      "model_module_version": "1.5.0",
      "model_name": "DescriptionStyleModel",
      "state": {
       "description_width": ""
      }
     },
     "68a0ceef0afe41c7b6d94c299ed9bc3b": {
      "model_module": "@jupyter-widgets/controls",
      "model_module_version": "1.5.0",
      "model_name": "HTMLModel",
      "state": {
       "layout": "IPY_MODEL_8ed0e20b82ac40fa8dd473595ab43dc6",
       "style": "IPY_MODEL_2edad309e6594b4fa7ebb881307512d8",
       "value": " 0/33808 [00:00&lt;?, ?it/s]"
      }
     },
     "68a39ee2af40447289b922564a70d461": {
      "model_module": "@jupyter-widgets/base",
      "model_module_version": "1.2.0",
      "model_name": "LayoutModel",
      "state": {}
     },
     "68ec1515812b4e0db51593323d0f58e2": {
      "model_module": "@jupyter-widgets/controls",
      "model_module_version": "1.5.0",
      "model_name": "DescriptionStyleModel",
      "state": {
       "description_width": ""
      }
     },
     "6a3cf80e232c486f9374e3083e0a51f6": {
      "model_module": "@jupyter-widgets/base",
      "model_module_version": "1.2.0",
      "model_name": "LayoutModel",
      "state": {}
     },
     "6ae17cef546c45948c78c25aaa73de4e": {
      "model_module": "@jupyter-widgets/controls",
      "model_module_version": "1.5.0",
      "model_name": "DescriptionStyleModel",
      "state": {
       "description_width": ""
      }
     },
     "6c5f35a986d5482e9bafbee729f992c3": {
      "model_module": "@jupyter-widgets/controls",
      "model_module_version": "1.5.0",
      "model_name": "DescriptionStyleModel",
      "state": {
       "description_width": ""
      }
     },
     "6e385791666245c39b5d713e449c0b3f": {
      "model_module": "@jupyter-widgets/controls",
      "model_module_version": "1.5.0",
      "model_name": "ProgressStyleModel",
      "state": {
       "description_width": "initial"
      }
     },
     "6e9c4efcccbc41bc88de925e5b62a7b1": {
      "model_module": "@jupyter-widgets/controls",
      "model_module_version": "1.5.0",
      "model_name": "HBoxModel",
      "state": {
       "children": [
        "IPY_MODEL_d5351c3a48074c2d97b0327fc9a35a3b",
        "IPY_MODEL_f5200ed8538f42688402b662d0e4cac3"
       ],
       "layout": "IPY_MODEL_63a8ba8f54914a33ad9c9db0bda6499c"
      }
     },
     "70972b0bc4b849aba336d05b29b7f5fb": {
      "model_module": "@jupyter-widgets/controls",
      "model_module_version": "1.5.0",
      "model_name": "HBoxModel",
      "state": {
       "children": [
        "IPY_MODEL_17092bcac1324ff1986d4a7bc39ae201",
        "IPY_MODEL_42f12c8b7c61468eb5e158d15e000c33"
       ],
       "layout": "IPY_MODEL_23d91e5eb2824f76a97e6eb9c96b4461"
      }
     },
     "71545c37877c4e50ac4ae9425580a885": {
      "model_module": "@jupyter-widgets/controls",
      "model_module_version": "1.5.0",
      "model_name": "DescriptionStyleModel",
      "state": {
       "description_width": ""
      }
     },
     "76bcd4ff7dc5459dac9130ab3c31988e": {
      "model_module": "@jupyter-widgets/base",
      "model_module_version": "1.2.0",
      "model_name": "LayoutModel",
      "state": {}
     },
     "76e8d3ad3d5846d0864568f88d1a2e28": {
      "model_module": "@jupyter-widgets/controls",
      "model_module_version": "1.5.0",
      "model_name": "HTMLModel",
      "state": {
       "layout": "IPY_MODEL_bb2e260c064e4dac87cbe664eb11cdb8",
       "style": "IPY_MODEL_1af44bc200e64f4daf64c0fd4613f231",
       "value": " 2248/33808 [17:13&lt;4:05:07,  2.15it/s]"
      }
     },
     "78101ac5c73141c1b39a9732752bc046": {
      "model_module": "@jupyter-widgets/base",
      "model_module_version": "1.2.0",
      "model_name": "LayoutModel",
      "state": {}
     },
     "79b691a3cda3497282b612808eddf320": {
      "model_module": "@jupyter-widgets/controls",
      "model_module_version": "1.5.0",
      "model_name": "HBoxModel",
      "state": {
       "children": [
        "IPY_MODEL_199da9995ffe4a929096a5fb488b8f8f",
        "IPY_MODEL_4709d4f3d7f74d1d8218181949f0e191"
       ],
       "layout": "IPY_MODEL_49121416155c40ddb692c41bafb600dd"
      }
     },
     "7b64757a178541a4aad850c1b9964f3c": {
      "model_module": "@jupyter-widgets/controls",
      "model_module_version": "1.5.0",
      "model_name": "HTMLModel",
      "state": {
       "layout": "IPY_MODEL_fe795a09e42c42918b36b215534f0db2",
       "style": "IPY_MODEL_e6298633fbd14e45815b458053e5bb39",
       "value": " 14/33808 [00:05&lt;3:47:24,  2.48it/s]"
      }
     },
     "7b891f756ef648f2ad65ea7507882f6b": {
      "model_module": "@jupyter-widgets/base",
      "model_module_version": "1.2.0",
      "model_name": "LayoutModel",
      "state": {}
     },
     "7e2afc0b52e0479a88cd226b36ca8e18": {
      "model_module": "@jupyter-widgets/base",
      "model_module_version": "1.2.0",
      "model_name": "LayoutModel",
      "state": {}
     },
     "7e56a58281e64a4eab52b7d05162aea3": {
      "model_module": "@jupyter-widgets/base",
      "model_module_version": "1.2.0",
      "model_name": "LayoutModel",
      "state": {}
     },
     "7e99efd4bcfa42c1bc22cbfcc27d23e1": {
      "model_module": "@jupyter-widgets/controls",
      "model_module_version": "1.5.0",
      "model_name": "HTMLModel",
      "state": {
       "layout": "IPY_MODEL_bc8377cf422445dbb34d01a465554068",
       "style": "IPY_MODEL_f2890a35e6354771b445667de178caf1",
       "value": " 1/33808 [00:01&lt;9:55:11,  1.06s/it]"
      }
     },
     "7f9e5f8a65314d9283a6968dc6b7d7f7": {
      "model_module": "@jupyter-widgets/controls",
      "model_module_version": "1.5.0",
      "model_name": "DescriptionStyleModel",
      "state": {
       "description_width": ""
      }
     },
     "82a2eadb3a524e769b2ce1fba45bcc65": {
      "model_module": "@jupyter-widgets/base",
      "model_module_version": "1.2.0",
      "model_name": "LayoutModel",
      "state": {}
     },
     "82cd77430afe4664aae0ff49660ce7c3": {
      "model_module": "@jupyter-widgets/controls",
      "model_module_version": "1.5.0",
      "model_name": "HBoxModel",
      "state": {
       "children": [
        "IPY_MODEL_b88ba05734f6402ab23e33b49f93835d",
        "IPY_MODEL_0362f26a81b2450db3b5ad92f6271f28"
       ],
       "layout": "IPY_MODEL_cecd3b9ea9914267a87167610594f2ff"
      }
     },
     "85b0980ddb844685ba0e2eb534f49df4": {
      "model_module": "@jupyter-widgets/base",
      "model_module_version": "1.2.0",
      "model_name": "LayoutModel",
      "state": {}
     },
     "85ce0fe0394443708cc524a0c306e14a": {
      "model_module": "@jupyter-widgets/controls",
      "model_module_version": "1.5.0",
      "model_name": "ProgressStyleModel",
      "state": {
       "description_width": "initial"
      }
     },
     "8662f4e608764918842f44d024c0fb3b": {
      "model_module": "@jupyter-widgets/controls",
      "model_module_version": "1.5.0",
      "model_name": "DescriptionStyleModel",
      "state": {
       "description_width": ""
      }
     },
     "86757e9e208843eba6bb2727c5e10936": {
      "model_module": "@jupyter-widgets/controls",
      "model_module_version": "1.5.0",
      "model_name": "DescriptionStyleModel",
      "state": {
       "description_width": ""
      }
     },
     "885ce6ec492640d2a3f1a5c1ba4be56c": {
      "model_module": "@jupyter-widgets/base",
      "model_module_version": "1.2.0",
      "model_name": "LayoutModel",
      "state": {}
     },
     "892c2b00a56c4baab2cc3fae1a037ed1": {
      "model_module": "@jupyter-widgets/controls",
      "model_module_version": "1.5.0",
      "model_name": "ProgressStyleModel",
      "state": {
       "description_width": "initial"
      }
     },
     "8996212163d148109c7c8417c1fb79a6": {
      "model_module": "@jupyter-widgets/controls",
      "model_module_version": "1.5.0",
      "model_name": "HTMLModel",
      "state": {
       "layout": "IPY_MODEL_0d853c6da0c146fa87e40111f77e0882",
       "style": "IPY_MODEL_8df787e53edf452c81a7f2a3ce59216c",
       "value": " 0/33808 [00:00&lt;?, ?it/s]"
      }
     },
     "8b4d9a3f5c7d4a19b5b2b64038cc7fd5": {
      "model_module": "@jupyter-widgets/base",
      "model_module_version": "1.2.0",
      "model_name": "LayoutModel",
      "state": {}
     },
     "8c20b7c6363f440a8f7d370b0423091c": {
      "model_module": "@jupyter-widgets/base",
      "model_module_version": "1.2.0",
      "model_name": "LayoutModel",
      "state": {}
     },
     "8df787e53edf452c81a7f2a3ce59216c": {
      "model_module": "@jupyter-widgets/controls",
      "model_module_version": "1.5.0",
      "model_name": "DescriptionStyleModel",
      "state": {
       "description_width": ""
      }
     },
     "8eacf11e1f11419cb603d6bc2578fb1c": {
      "model_module": "@jupyter-widgets/base",
      "model_module_version": "1.2.0",
      "model_name": "LayoutModel",
      "state": {}
     },
     "8ed0e20b82ac40fa8dd473595ab43dc6": {
      "model_module": "@jupyter-widgets/base",
      "model_module_version": "1.2.0",
      "model_name": "LayoutModel",
      "state": {}
     },
     "8f7d96a7bfe24198a1cac27dadfc0033": {
      "model_module": "@jupyter-widgets/controls",
      "model_module_version": "1.5.0",
      "model_name": "IntProgressModel",
      "state": {
       "bar_style": "danger",
       "description": "  7%",
       "layout": "IPY_MODEL_5766cf2d4a7f4fa89855861a7c8f5d1b",
       "max": 33808,
       "style": "IPY_MODEL_4e6e58adba324827b5e3fbb28144ab87",
       "value": 2248
      }
     },
     "8f83424276fe45e4af2d0372b36777da": {
      "model_module": "@jupyter-widgets/controls",
      "model_module_version": "1.5.0",
      "model_name": "ProgressStyleModel",
      "state": {
       "description_width": "initial"
      }
     },
     "9054baf345d94054911cdeeb2896c1cf": {
      "model_module": "@jupyter-widgets/controls",
      "model_module_version": "1.5.0",
      "model_name": "DescriptionStyleModel",
      "state": {
       "description_width": ""
      }
     },
     "90c93f22339640d99d4260179d65f25c": {
      "model_module": "@jupyter-widgets/controls",
      "model_module_version": "1.5.0",
      "model_name": "DescriptionStyleModel",
      "state": {
       "description_width": ""
      }
     },
     "90cf835775224d18be10154968398718": {
      "model_module": "@jupyter-widgets/base",
      "model_module_version": "1.2.0",
      "model_name": "LayoutModel",
      "state": {}
     },
     "913adccc2d9247b99a073cca46b6db75": {
      "model_module": "@jupyter-widgets/base",
      "model_module_version": "1.2.0",
      "model_name": "LayoutModel",
      "state": {}
     },
     "93044ecbd24a43478e294f020a52f852": {
      "model_module": "@jupyter-widgets/base",
      "model_module_version": "1.2.0",
      "model_name": "LayoutModel",
      "state": {}
     },
     "94c76a28c7dc46289b57c8feb09e13f3": {
      "model_module": "@jupyter-widgets/base",
      "model_module_version": "1.2.0",
      "model_name": "LayoutModel",
      "state": {}
     },
     "9570584e71404b27a125df6d569d8ca4": {
      "model_module": "@jupyter-widgets/base",
      "model_module_version": "1.2.0",
      "model_name": "LayoutModel",
      "state": {}
     },
     "964406d75d6a4ce9b60a1ad7d59e873f": {
      "model_module": "@jupyter-widgets/controls",
      "model_module_version": "1.5.0",
      "model_name": "HTMLModel",
      "state": {
       "layout": "IPY_MODEL_528eccd360e94e7b9ee7333449ae3312",
       "style": "IPY_MODEL_90c93f22339640d99d4260179d65f25c",
       "value": " 0/33808 [00:00&lt;?, ?it/s]"
      }
     },
     "96ca084baa1b4db9b987313d46a40b03": {
      "model_module": "@jupyter-widgets/base",
      "model_module_version": "1.2.0",
      "model_name": "LayoutModel",
      "state": {}
     },
     "979e6b1ddb46444fbd31fd5047afde39": {
      "model_module": "@jupyter-widgets/base",
      "model_module_version": "1.2.0",
      "model_name": "LayoutModel",
      "state": {}
     },
     "97ad71fa1b2340b3b95f78c07d2d7da5": {
      "model_module": "@jupyter-widgets/base",
      "model_module_version": "1.2.0",
      "model_name": "LayoutModel",
      "state": {}
     },
     "9815b109afbb43799b4eab741ead6b32": {
      "model_module": "@jupyter-widgets/controls",
      "model_module_version": "1.5.0",
      "model_name": "IntProgressModel",
      "state": {
       "bar_style": "danger",
       "description": "  0%",
       "layout": "IPY_MODEL_7e56a58281e64a4eab52b7d05162aea3",
       "max": 33808,
       "style": "IPY_MODEL_a609637397144c0da3f3ae9eaef554a7"
      }
     },
     "98698c455827475fa85e39e467b2db2e": {
      "model_module": "@jupyter-widgets/base",
      "model_module_version": "1.2.0",
      "model_name": "LayoutModel",
      "state": {}
     },
     "9b7cd4ce376c4b76aad14e80241c4c2f": {
      "model_module": "@jupyter-widgets/controls",
      "model_module_version": "1.5.0",
      "model_name": "ProgressStyleModel",
      "state": {
       "description_width": "initial"
      }
     },
     "9bcc503a05a94d2fa34f39ebc0bc7daf": {
      "model_module": "@jupyter-widgets/controls",
      "model_module_version": "1.5.0",
      "model_name": "HTMLModel",
      "state": {
       "layout": "IPY_MODEL_30f96d791285472ebac98d051e45ed6d",
       "style": "IPY_MODEL_2a6af4e7a7294721a56bbd0cf8bf76af",
       "value": " 0/33808 [00:00&lt;?, ?it/s]"
      }
     },
     "9cf815a9621c465cb86ed3d83a8539d4": {
      "model_module": "@jupyter-widgets/controls",
      "model_module_version": "1.5.0",
      "model_name": "IntProgressModel",
      "state": {
       "description": " 23%",
       "layout": "IPY_MODEL_099e6430cc5345218297ce654f36b1c3",
       "max": 6762,
       "style": "IPY_MODEL_6e385791666245c39b5d713e449c0b3f",
       "value": 1583
      }
     },
     "9f7dca91902b4e72b79f64040e2f1696": {
      "model_module": "@jupyter-widgets/controls",
      "model_module_version": "1.5.0",
      "model_name": "DescriptionStyleModel",
      "state": {
       "description_width": ""
      }
     },
     "a04c4c63f2544221bafe18a666819001": {
      "model_module": "@jupyter-widgets/base",
      "model_module_version": "1.2.0",
      "model_name": "LayoutModel",
      "state": {}
     },
     "a0bed612967e4757979099a67f470440": {
      "model_module": "@jupyter-widgets/controls",
      "model_module_version": "1.5.0",
      "model_name": "IntProgressModel",
      "state": {
       "bar_style": "danger",
       "description": "  0%",
       "layout": "IPY_MODEL_d5826ae79efd491d9fcb243dfcc00d19",
       "max": 6762,
       "style": "IPY_MODEL_2830ae2d408c45ebb85a2c231f17651a",
       "value": 14
      }
     },
     "a13b6ed2bcae4351906675bb49970308": {
      "model_module": "@jupyter-widgets/base",
      "model_module_version": "1.2.0",
      "model_name": "LayoutModel",
      "state": {}
     },
     "a45e06b63d51475baf6ce76d91b7019c": {
      "model_module": "@jupyter-widgets/controls",
      "model_module_version": "1.5.0",
      "model_name": "HBoxModel",
      "state": {
       "children": [
        "IPY_MODEL_3eab0b0689714b4584e7e1a2c87efa77",
        "IPY_MODEL_9bcc503a05a94d2fa34f39ebc0bc7daf"
       ],
       "layout": "IPY_MODEL_68a39ee2af40447289b922564a70d461"
      }
     },
     "a609637397144c0da3f3ae9eaef554a7": {
      "model_module": "@jupyter-widgets/controls",
      "model_module_version": "1.5.0",
      "model_name": "ProgressStyleModel",
      "state": {
       "description_width": "initial"
      }
     },
     "a71cbe997dc0425a95f4f4c5e559d60c": {
      "model_module": "@jupyter-widgets/controls",
      "model_module_version": "1.5.0",
      "model_name": "HTMLModel",
      "state": {
       "layout": "IPY_MODEL_8c20b7c6363f440a8f7d370b0423091c",
       "style": "IPY_MODEL_fd7ab06a79a34ac3b781d2977b1f564d",
       "value": " 14/33808 [00:08&lt;5:24:45,  1.73it/s]"
      }
     },
     "a7524038d0e54ca0899e4db44661c0ab": {
      "model_module": "@jupyter-widgets/base",
      "model_module_version": "1.2.0",
      "model_name": "LayoutModel",
      "state": {}
     },
     "a766c4ebf8154235a173c87a332cfbf6": {
      "model_module": "@jupyter-widgets/base",
      "model_module_version": "1.2.0",
      "model_name": "LayoutModel",
      "state": {}
     },
     "a77c63252fca4c06bbbf323291b1b41a": {
      "model_module": "@jupyter-widgets/controls",
      "model_module_version": "1.5.0",
      "model_name": "HBoxModel",
      "state": {
       "children": [
        "IPY_MODEL_5508d5f2c11e4b779a0f879ced5509dc",
        "IPY_MODEL_d0b48ea10975450e931d540d96553d56"
       ],
       "layout": "IPY_MODEL_013845f9a44740e4986b1bb6a293c6c3"
      }
     },
     "a848fd742d2541fb8c6ac6bb4fefcde7": {
      "model_module": "@jupyter-widgets/controls",
      "model_module_version": "1.5.0",
      "model_name": "HBoxModel",
      "state": {
       "children": [
        "IPY_MODEL_ddd37ccf8f494f58841eb3f3c2dcf279",
        "IPY_MODEL_cdffda1f52824d2fbdfa62467c38525d"
       ],
       "layout": "IPY_MODEL_78101ac5c73141c1b39a9732752bc046"
      }
     },
     "aa22121c80274ae5bd0373ca9d9ff40b": {
      "model_module": "@jupyter-widgets/controls",
      "model_module_version": "1.5.0",
      "model_name": "HTMLModel",
      "state": {
       "layout": "IPY_MODEL_505d12234e56428386d6db169b4bbcc2",
       "style": "IPY_MODEL_ab5cbcd331fe4bafa16b4c7931759223",
       "value": " 1/33808 [00:01&lt;9:32:34,  1.02s/it]"
      }
     },
     "aa8d2419f5ee45828fb09553f02020ea": {
      "model_module": "@jupyter-widgets/controls",
      "model_module_version": "1.5.0",
      "model_name": "HTMLModel",
      "state": {
       "layout": "IPY_MODEL_ebbe3da97c2a48d2904ee2f7146c9f35",
       "style": "IPY_MODEL_86757e9e208843eba6bb2727c5e10936",
       "value": " 0/33808 [00:00&lt;?, ?it/s]"
      }
     },
     "ab5cbcd331fe4bafa16b4c7931759223": {
      "model_module": "@jupyter-widgets/controls",
      "model_module_version": "1.5.0",
      "model_name": "DescriptionStyleModel",
      "state": {
       "description_width": ""
      }
     },
     "ac30cf40b8ed47b8af85810f59296618": {
      "model_module": "@jupyter-widgets/base",
      "model_module_version": "1.2.0",
      "model_name": "LayoutModel",
      "state": {}
     },
     "ac79999cfd3c4feca6cc71e86a907267": {
      "model_module": "@jupyter-widgets/controls",
      "model_module_version": "1.5.0",
      "model_name": "HTMLModel",
      "state": {
       "layout": "IPY_MODEL_bb0a5ce176444fffb1bddbba674a0565",
       "style": "IPY_MODEL_36cde8883af74fc086743f5ad60ad96e",
       "value": " 1/33808 [00:00&lt;8:42:53,  1.08it/s]"
      }
     },
     "acf590ced9db42b2ad45a0dbd2f14579": {
      "model_module": "@jupyter-widgets/controls",
      "model_module_version": "1.5.0",
      "model_name": "ProgressStyleModel",
      "state": {
       "description_width": "initial"
      }
     },
     "ae123863565c4b18a65b233588b12d38": {
      "model_module": "@jupyter-widgets/controls",
      "model_module_version": "1.5.0",
      "model_name": "DescriptionStyleModel",
      "state": {
       "description_width": ""
      }
     },
     "ae3280aa9c084745a29898692472fbff": {
      "model_module": "@jupyter-widgets/controls",
      "model_module_version": "1.5.0",
      "model_name": "HBoxModel",
      "state": {
       "children": [
        "IPY_MODEL_332392b17ab84930ab68671e85bd3a98",
        "IPY_MODEL_964406d75d6a4ce9b60a1ad7d59e873f"
       ],
       "layout": "IPY_MODEL_ea27de904af8478bb87b32405a070e87"
      }
     },
     "ae84a19a164e4487905c07afae1a7260": {
      "model_module": "@jupyter-widgets/controls",
      "model_module_version": "1.5.0",
      "model_name": "ProgressStyleModel",
      "state": {
       "description_width": "initial"
      }
     },
     "aeee1e004e184f7ab6c300ed199db4c9": {
      "model_module": "@jupyter-widgets/base",
      "model_module_version": "1.2.0",
      "model_name": "LayoutModel",
      "state": {}
     },
     "afaa82ea21f64ed78ccc38a81abda913": {
      "model_module": "@jupyter-widgets/base",
      "model_module_version": "1.2.0",
      "model_name": "LayoutModel",
      "state": {}
     },
     "b1e3f3717efa4aadb8fd96574a5c5f3f": {
      "model_module": "@jupyter-widgets/controls",
      "model_module_version": "1.5.0",
      "model_name": "HBoxModel",
      "state": {
       "children": [
        "IPY_MODEL_209a2300216b4157ac2e3b65d37c8616",
        "IPY_MODEL_2ba47e6c86ef4d8683c420ae4edbfbe0"
       ],
       "layout": "IPY_MODEL_4ded6d359efe439d8d838de46aa4abc7"
      }
     },
     "b1eff4ec4c0640b68e34b3b7fd1bacc5": {
      "model_module": "@jupyter-widgets/controls",
      "model_module_version": "1.5.0",
      "model_name": "HTMLModel",
      "state": {
       "layout": "IPY_MODEL_daf79c2c25bb4d49900de09701728cff",
       "style": "IPY_MODEL_e47b40e1d209430989f191985bc6d2ee",
       "value": " 10/33808 [00:04&lt;3:45:21,  2.50it/s]"
      }
     },
     "b2dc196c6f754feba2e172ddedd29be0": {
      "model_module": "@jupyter-widgets/controls",
      "model_module_version": "1.5.0",
      "model_name": "IntProgressModel",
      "state": {
       "bar_style": "danger",
       "description": "  0%",
       "layout": "IPY_MODEL_6811bd7589634dcf92b9591688564cea",
       "max": 33808,
       "style": "IPY_MODEL_d82284dbe4ab4680a8d3ea9110664303",
       "value": 1
      }
     },
     "b577c59d44c549dcb64d11f7a3dc112e": {
      "model_module": "@jupyter-widgets/controls",
      "model_module_version": "1.5.0",
      "model_name": "ProgressStyleModel",
      "state": {
       "description_width": "initial"
      }
     },
     "b678d9a47d1a434ba2878007bde63597": {
      "model_module": "@jupyter-widgets/base",
      "model_module_version": "1.2.0",
      "model_name": "LayoutModel",
      "state": {}
     },
     "b744285416ef4eee8a779a33dc409ebc": {
      "model_module": "@jupyter-widgets/controls",
      "model_module_version": "1.5.0",
      "model_name": "DescriptionStyleModel",
      "state": {
       "description_width": ""
      }
     },
     "b88ba05734f6402ab23e33b49f93835d": {
      "model_module": "@jupyter-widgets/controls",
      "model_module_version": "1.5.0",
      "model_name": "IntProgressModel",
      "state": {
       "bar_style": "danger",
       "description": "  0%",
       "layout": "IPY_MODEL_596d3d87bfbb4362bc8c20f54c63d380",
       "max": 33808,
       "style": "IPY_MODEL_85ce0fe0394443708cc524a0c306e14a",
       "value": 1
      }
     },
     "bb0a5ce176444fffb1bddbba674a0565": {
      "model_module": "@jupyter-widgets/base",
      "model_module_version": "1.2.0",
      "model_name": "LayoutModel",
      "state": {}
     },
     "bb2e260c064e4dac87cbe664eb11cdb8": {
      "model_module": "@jupyter-widgets/base",
      "model_module_version": "1.2.0",
      "model_name": "LayoutModel",
      "state": {}
     },
     "bc8377cf422445dbb34d01a465554068": {
      "model_module": "@jupyter-widgets/base",
      "model_module_version": "1.2.0",
      "model_name": "LayoutModel",
      "state": {}
     },
     "bd634323cf7b425199cebf4141d3148e": {
      "model_module": "@jupyter-widgets/controls",
      "model_module_version": "1.5.0",
      "model_name": "HBoxModel",
      "state": {
       "children": [
        "IPY_MODEL_3e03921e15494f7e8982aa02c2ff2169",
        "IPY_MODEL_2062e1e4efe249578284028972b33aa4"
       ],
       "layout": "IPY_MODEL_cb2301aa55de4b8b8af33adfe48bc26e"
      }
     },
     "beab27bb34784ea3aba212ed4e74546e": {
      "model_module": "@jupyter-widgets/base",
      "model_module_version": "1.2.0",
      "model_name": "LayoutModel",
      "state": {}
     },
     "bf9d1e78235d4299a7d394ff9f305ed3": {
      "model_module": "@jupyter-widgets/controls",
      "model_module_version": "1.5.0",
      "model_name": "IntProgressModel",
      "state": {
       "bar_style": "danger",
       "description": "  0%",
       "layout": "IPY_MODEL_e0b185538dc34962ad39a4eaae53c6dc",
       "max": 33808,
       "style": "IPY_MODEL_b577c59d44c549dcb64d11f7a3dc112e"
      }
     },
     "c066214ba40946d6a882548bb82885e0": {
      "model_module": "@jupyter-widgets/controls",
      "model_module_version": "1.5.0",
      "model_name": "HBoxModel",
      "state": {
       "children": [
        "IPY_MODEL_da5cf822e9df4d2d99ada89004240429",
        "IPY_MODEL_ca828595b4694305a29bb5204d05576c"
       ],
       "layout": "IPY_MODEL_94c76a28c7dc46289b57c8feb09e13f3"
      }
     },
     "c06f7c8c51734124a0d9826b26b64477": {
      "model_module": "@jupyter-widgets/controls",
      "model_module_version": "1.5.0",
      "model_name": "HTMLModel",
      "state": {
       "layout": "IPY_MODEL_1f1ad13216b046d3ac219dc221c1b2e1",
       "style": "IPY_MODEL_3ce1b788151444c887901a4f52c5d0a1",
       "value": " 0/33808 [00:00&lt;?, ?it/s]"
      }
     },
     "c188f82b4c9f4d55ba44b0cb2522e3d3": {
      "model_module": "@jupyter-widgets/controls",
      "model_module_version": "1.5.0",
      "model_name": "HBoxModel",
      "state": {
       "children": [
        "IPY_MODEL_4b8fda2912bc4485a0902da3fe6a5bf3",
        "IPY_MODEL_7e99efd4bcfa42c1bc22cbfcc27d23e1"
       ],
       "layout": "IPY_MODEL_49dac45f446d43edac64a668cf4849b4"
      }
     },
     "c278dedc4720451c92f43be985214097": {
      "model_module": "@jupyter-widgets/base",
      "model_module_version": "1.2.0",
      "model_name": "LayoutModel",
      "state": {}
     },
     "c30dd4e001154e60b4b874bac313cdf2": {
      "model_module": "@jupyter-widgets/base",
      "model_module_version": "1.2.0",
      "model_name": "LayoutModel",
      "state": {}
     },
     "c35a9408d49e4b7bbf1862ecb10d4a44": {
      "model_module": "@jupyter-widgets/controls",
      "model_module_version": "1.5.0",
      "model_name": "HBoxModel",
      "state": {
       "children": [
        "IPY_MODEL_8f7d96a7bfe24198a1cac27dadfc0033",
        "IPY_MODEL_76e8d3ad3d5846d0864568f88d1a2e28"
       ],
       "layout": "IPY_MODEL_c30dd4e001154e60b4b874bac313cdf2"
      }
     },
     "c52ddcf5037a49bdaa0e85028734646d": {
      "model_module": "@jupyter-widgets/base",
      "model_module_version": "1.2.0",
      "model_name": "LayoutModel",
      "state": {}
     },
     "c82e498311f44efaa8526f525c3b1c45": {
      "model_module": "@jupyter-widgets/controls",
      "model_module_version": "1.5.0",
      "model_name": "ProgressStyleModel",
      "state": {
       "description_width": "initial"
      }
     },
     "ca828595b4694305a29bb5204d05576c": {
      "model_module": "@jupyter-widgets/controls",
      "model_module_version": "1.5.0",
      "model_name": "HTMLModel",
      "state": {
       "layout": "IPY_MODEL_ef5a1c410d434ecba5f593b1ec6be61f",
       "style": "IPY_MODEL_9054baf345d94054911cdeeb2896c1cf",
       "value": " 1/33808 [00:00&lt;8:31:34,  1.10it/s]"
      }
     },
     "cb2301aa55de4b8b8af33adfe48bc26e": {
      "model_module": "@jupyter-widgets/base",
      "model_module_version": "1.2.0",
      "model_name": "LayoutModel",
      "state": {}
     },
     "cbdfaafbedb848bbb61cb3db9f165723": {
      "model_module": "@jupyter-widgets/controls",
      "model_module_version": "1.5.0",
      "model_name": "DescriptionStyleModel",
      "state": {
       "description_width": ""
      }
     },
     "ccb2210238eb4f56984196b13dfa4fcc": {
      "model_module": "@jupyter-widgets/controls",
      "model_module_version": "1.5.0",
      "model_name": "DescriptionStyleModel",
      "state": {
       "description_width": ""
      }
     },
     "ccb2ea6e27934f91a227b204f591aa67": {
      "model_module": "@jupyter-widgets/controls",
      "model_module_version": "1.5.0",
      "model_name": "ProgressStyleModel",
      "state": {
       "description_width": "initial"
      }
     },
     "cd08310ded2d439fb1d77e1431893530": {
      "model_module": "@jupyter-widgets/controls",
      "model_module_version": "1.5.0",
      "model_name": "HBoxModel",
      "state": {
       "children": [
        "IPY_MODEL_1590f990e0cf413eb15d1d3fcfaaf2fe",
        "IPY_MODEL_68a0ceef0afe41c7b6d94c299ed9bc3b"
       ],
       "layout": "IPY_MODEL_6a3cf80e232c486f9374e3083e0a51f6"
      }
     },
     "cd74f56ef0ab4da9a22bc75138dc2ba4": {
      "model_module": "@jupyter-widgets/base",
      "model_module_version": "1.2.0",
      "model_name": "LayoutModel",
      "state": {}
     },
     "cdffda1f52824d2fbdfa62467c38525d": {
      "model_module": "@jupyter-widgets/controls",
      "model_module_version": "1.5.0",
      "model_name": "HTMLModel",
      "state": {
       "layout": "IPY_MODEL_9570584e71404b27a125df6d569d8ca4",
       "style": "IPY_MODEL_8662f4e608764918842f44d024c0fb3b",
       "value": " 0/33808 [00:00&lt;?, ?it/s]"
      }
     },
     "cecd3b9ea9914267a87167610594f2ff": {
      "model_module": "@jupyter-widgets/base",
      "model_module_version": "1.2.0",
      "model_name": "LayoutModel",
      "state": {}
     },
     "d0b48ea10975450e931d540d96553d56": {
      "model_module": "@jupyter-widgets/controls",
      "model_module_version": "1.5.0",
      "model_name": "HTMLModel",
      "state": {
       "layout": "IPY_MODEL_979e6b1ddb46444fbd31fd5047afde39",
       "style": "IPY_MODEL_19dd11a57d054ab18387b713aa5b4f26",
       "value": " 13/33808 [00:05&lt;3:53:58,  2.41it/s]"
      }
     },
     "d28ef8b63d974bb8ae109afbbd023627": {
      "model_module": "@jupyter-widgets/controls",
      "model_module_version": "1.5.0",
      "model_name": "DescriptionStyleModel",
      "state": {
       "description_width": ""
      }
     },
     "d2bed5c1a99e4462b0a8b38f06817c01": {
      "model_module": "@jupyter-widgets/controls",
      "model_module_version": "1.5.0",
      "model_name": "HTMLModel",
      "state": {
       "layout": "IPY_MODEL_43da791b98ff40a0adae48b4615b26a9",
       "style": "IPY_MODEL_68ec1515812b4e0db51593323d0f58e2",
       "value": " 1583/6762 [44:57&lt;2:27:05,  1.70s/it]"
      }
     },
     "d334ac763a19405298effb24052f4765": {
      "model_module": "@jupyter-widgets/controls",
      "model_module_version": "1.5.0",
      "model_name": "HBoxModel",
      "state": {
       "children": [
        "IPY_MODEL_1d4bb3f6c98f4d56b67d8b3e9a2969e6",
        "IPY_MODEL_de546c8435c24d5790a3a1397207611d"
       ],
       "layout": "IPY_MODEL_90cf835775224d18be10154968398718"
      }
     },
     "d359a45d608941d7bfae1913d7f0657e": {
      "model_module": "@jupyter-widgets/base",
      "model_module_version": "1.2.0",
      "model_name": "LayoutModel",
      "state": {}
     },
     "d36e3f4e7c644d00875e30bb53933d65": {
      "model_module": "@jupyter-widgets/base",
      "model_module_version": "1.2.0",
      "model_name": "LayoutModel",
      "state": {}
     },
     "d40d48acd38a4a7a9ec55f81e75eb5e4": {
      "model_module": "@jupyter-widgets/controls",
      "model_module_version": "1.5.0",
      "model_name": "ProgressStyleModel",
      "state": {
       "description_width": "initial"
      }
     },
     "d5351c3a48074c2d97b0327fc9a35a3b": {
      "model_module": "@jupyter-widgets/controls",
      "model_module_version": "1.5.0",
      "model_name": "IntProgressModel",
      "state": {
       "bar_style": "danger",
       "description": "  0%",
       "layout": "IPY_MODEL_5b4c9ef6573d4909b9e88482ab9b110c",
       "max": 33808,
       "style": "IPY_MODEL_27628d1b0a38411cad072e2ee7cb3980",
       "value": 1
      }
     },
     "d5826ae79efd491d9fcb243dfcc00d19": {
      "model_module": "@jupyter-widgets/base",
      "model_module_version": "1.2.0",
      "model_name": "LayoutModel",
      "state": {}
     },
     "d799030f8ebc475a9909681606b92c2c": {
      "model_module": "@jupyter-widgets/controls",
      "model_module_version": "1.5.0",
      "model_name": "IntProgressModel",
      "state": {
       "bar_style": "danger",
       "description": "  0%",
       "layout": "IPY_MODEL_0cd9f02ca5c54ae3b0d49ed31df2f4d1",
       "max": 33808,
       "style": "IPY_MODEL_2260cee2dd9e4d0594d94f9994c082e3",
       "value": 1
      }
     },
     "d82284dbe4ab4680a8d3ea9110664303": {
      "model_module": "@jupyter-widgets/controls",
      "model_module_version": "1.5.0",
      "model_name": "ProgressStyleModel",
      "state": {
       "description_width": "initial"
      }
     },
     "d8394ef5a6e24e8f947412018179de8a": {
      "model_module": "@jupyter-widgets/base",
      "model_module_version": "1.2.0",
      "model_name": "LayoutModel",
      "state": {}
     },
     "da3dd64b737649daa2717412570eb205": {
      "model_module": "@jupyter-widgets/controls",
      "model_module_version": "1.5.0",
      "model_name": "HTMLModel",
      "state": {
       "layout": "IPY_MODEL_0caeeec36afd4294808e1d3c71477ae5",
       "style": "IPY_MODEL_375e30e33c564d24923b852ae9bde01e",
       "value": " 10/33808 [00:04&lt;3:46:09,  2.49it/s]"
      }
     },
     "da5cf822e9df4d2d99ada89004240429": {
      "model_module": "@jupyter-widgets/controls",
      "model_module_version": "1.5.0",
      "model_name": "IntProgressModel",
      "state": {
       "bar_style": "danger",
       "description": "  0%",
       "layout": "IPY_MODEL_a7524038d0e54ca0899e4db44661c0ab",
       "max": 33808,
       "style": "IPY_MODEL_0216c7a90336472285d0a4b3fb38916a",
       "value": 1
      }
     },
     "dad557e2b9834664ad07113120fd0cc0": {
      "model_module": "@jupyter-widgets/controls",
      "model_module_version": "1.5.0",
      "model_name": "HBoxModel",
      "state": {
       "children": [
        "IPY_MODEL_201d516d74fd42fc8249e573b2785ca8",
        "IPY_MODEL_b1eff4ec4c0640b68e34b3b7fd1bacc5"
       ],
       "layout": "IPY_MODEL_a04c4c63f2544221bafe18a666819001"
      }
     },
     "daea6c36be534cd7ad73c65e2cca3218": {
      "model_module": "@jupyter-widgets/controls",
      "model_module_version": "1.5.0",
      "model_name": "IntProgressModel",
      "state": {
       "bar_style": "danger",
       "description": "  0%",
       "layout": "IPY_MODEL_f3a82208b6c24501a16bddcf8491d9d5",
       "max": 33808,
       "style": "IPY_MODEL_453051e504f5423d83429b631ca066bf",
       "value": 1
      }
     },
     "daf79c2c25bb4d49900de09701728cff": {
      "model_module": "@jupyter-widgets/base",
      "model_module_version": "1.2.0",
      "model_name": "LayoutModel",
      "state": {}
     },
     "db6191255ead4f5eaca0e484880099e7": {
      "model_module": "@jupyter-widgets/controls",
      "model_module_version": "1.5.0",
      "model_name": "DescriptionStyleModel",
      "state": {
       "description_width": ""
      }
     },
     "dc710930322a4caf89e9aac80c138bb5": {
      "model_module": "@jupyter-widgets/controls",
      "model_module_version": "1.5.0",
      "model_name": "ProgressStyleModel",
      "state": {
       "description_width": "initial"
      }
     },
     "ddc214d9aec9416ebcab0710ec27aca3": {
      "model_module": "@jupyter-widgets/base",
      "model_module_version": "1.2.0",
      "model_name": "LayoutModel",
      "state": {}
     },
     "ddd37ccf8f494f58841eb3f3c2dcf279": {
      "model_module": "@jupyter-widgets/controls",
      "model_module_version": "1.5.0",
      "model_name": "IntProgressModel",
      "state": {
       "bar_style": "danger",
       "description": "  0%",
       "layout": "IPY_MODEL_448dfd8bdd1e4f47885c41cdc38c0bbd",
       "max": 33808,
       "style": "IPY_MODEL_194fd95953634117a102c7676e5e88b8"
      }
     },
     "de546c8435c24d5790a3a1397207611d": {
      "model_module": "@jupyter-widgets/controls",
      "model_module_version": "1.5.0",
      "model_name": "HTMLModel",
      "state": {
       "layout": "IPY_MODEL_85b0980ddb844685ba0e2eb534f49df4",
       "style": "IPY_MODEL_ae123863565c4b18a65b233588b12d38",
       "value": " 1/33808 [00:01&lt;4:58:07,  1.89it/s]"
      }
     },
     "de90474772aa4fb9980228f5ed55db92": {
      "model_module": "@jupyter-widgets/controls",
      "model_module_version": "1.5.0",
      "model_name": "ProgressStyleModel",
      "state": {
       "description_width": "initial"
      }
     },
     "dfd899ab278c4d86ba07fa20b8618af5": {
      "model_module": "@jupyter-widgets/base",
      "model_module_version": "1.2.0",
      "model_name": "LayoutModel",
      "state": {}
     },
     "e0b185538dc34962ad39a4eaae53c6dc": {
      "model_module": "@jupyter-widgets/base",
      "model_module_version": "1.2.0",
      "model_name": "LayoutModel",
      "state": {}
     },
     "e175b4f293dd423f9337740644039c1b": {
      "model_module": "@jupyter-widgets/controls",
      "model_module_version": "1.5.0",
      "model_name": "IntProgressModel",
      "state": {
       "bar_style": "danger",
       "description": "  0%",
       "layout": "IPY_MODEL_0e5fd08bc3a742ee8c2445a75b8780c7",
       "max": 33808,
       "style": "IPY_MODEL_5d893212100c4b359929c9106ff4f7c4",
       "value": 1
      }
     },
     "e1b8624fcd7e4d51b7bafb21cf77eced": {
      "model_module": "@jupyter-widgets/base",
      "model_module_version": "1.2.0",
      "model_name": "LayoutModel",
      "state": {}
     },
     "e32daa70e137462bb1b048f954793267": {
      "model_module": "@jupyter-widgets/base",
      "model_module_version": "1.2.0",
      "model_name": "LayoutModel",
      "state": {}
     },
     "e3a78c36547f4bd7b4bf7b28906b3be5": {
      "model_module": "@jupyter-widgets/controls",
      "model_module_version": "1.5.0",
      "model_name": "HBoxModel",
      "state": {
       "children": [
        "IPY_MODEL_9815b109afbb43799b4eab741ead6b32",
        "IPY_MODEL_c06f7c8c51734124a0d9826b26b64477"
       ],
       "layout": "IPY_MODEL_f1da97107ed1458fbd6839f65d824046"
      }
     },
     "e47b40e1d209430989f191985bc6d2ee": {
      "model_module": "@jupyter-widgets/controls",
      "model_module_version": "1.5.0",
      "model_name": "DescriptionStyleModel",
      "state": {
       "description_width": ""
      }
     },
     "e563c7992dff4a36a436496a42035e35": {
      "model_module": "@jupyter-widgets/controls",
      "model_module_version": "1.5.0",
      "model_name": "IntProgressModel",
      "state": {
       "bar_style": "danger",
       "description": "  0%",
       "layout": "IPY_MODEL_76bcd4ff7dc5459dac9130ab3c31988e",
       "max": 33808,
       "style": "IPY_MODEL_373540baee114b369b617c2214b7f279",
       "value": 14
      }
     },
     "e61a1aa820fb43c9a3ed9ce4c7197814": {
      "model_module": "@jupyter-widgets/base",
      "model_module_version": "1.2.0",
      "model_name": "LayoutModel",
      "state": {}
     },
     "e6298633fbd14e45815b458053e5bb39": {
      "model_module": "@jupyter-widgets/controls",
      "model_module_version": "1.5.0",
      "model_name": "DescriptionStyleModel",
      "state": {
       "description_width": ""
      }
     },
     "e8abf42de94d4b25bd1fe7c9f55c96be": {
      "model_module": "@jupyter-widgets/controls",
      "model_module_version": "1.5.0",
      "model_name": "HTMLModel",
      "state": {
       "layout": "IPY_MODEL_dfd899ab278c4d86ba07fa20b8618af5",
       "style": "IPY_MODEL_ff76921dd361488fb7f84db58f4dfaf8",
       "value": " 1/33808 [00:01&lt;9:24:50,  1.00s/it]"
      }
     },
     "e9d47c19b1154c028c576deb09b11e2f": {
      "model_module": "@jupyter-widgets/base",
      "model_module_version": "1.2.0",
      "model_name": "LayoutModel",
      "state": {}
     },
     "ea27de904af8478bb87b32405a070e87": {
      "model_module": "@jupyter-widgets/base",
      "model_module_version": "1.2.0",
      "model_name": "LayoutModel",
      "state": {}
     },
     "ebbe3da97c2a48d2904ee2f7146c9f35": {
      "model_module": "@jupyter-widgets/base",
      "model_module_version": "1.2.0",
      "model_name": "LayoutModel",
      "state": {}
     },
     "ebc5bb2a32c9434bb7381d9462c4f060": {
      "model_module": "@jupyter-widgets/controls",
      "model_module_version": "1.5.0",
      "model_name": "IntProgressModel",
      "state": {
       "bar_style": "danger",
       "description": "  0%",
       "layout": "IPY_MODEL_e61a1aa820fb43c9a3ed9ce4c7197814",
       "max": 33808,
       "style": "IPY_MODEL_5c2c318e309045549fb95255741ff748"
      }
     },
     "ec6ab4115508419da05f8c9dc505a838": {
      "model_module": "@jupyter-widgets/base",
      "model_module_version": "1.2.0",
      "model_name": "LayoutModel",
      "state": {}
     },
     "ec6cf1582caa48c5b62cb92e766dea10": {
      "model_module": "@jupyter-widgets/controls",
      "model_module_version": "1.5.0",
      "model_name": "HBoxModel",
      "state": {
       "children": [
        "IPY_MODEL_bf9d1e78235d4299a7d394ff9f305ed3",
        "IPY_MODEL_aa8d2419f5ee45828fb09553f02020ea"
       ],
       "layout": "IPY_MODEL_1f8577af1e4d4e539eb6d0cfd7fac641"
      }
     },
     "edfd223b356f4443b7d92f7d43cc9258": {
      "model_module": "@jupyter-widgets/base",
      "model_module_version": "1.2.0",
      "model_name": "LayoutModel",
      "state": {}
     },
     "ee9c48f13d4945d39029b5f9943f0b23": {
      "model_module": "@jupyter-widgets/base",
      "model_module_version": "1.2.0",
      "model_name": "LayoutModel",
      "state": {}
     },
     "eed760a345c74cc0b6cafe044a9aaccb": {
      "model_module": "@jupyter-widgets/controls",
      "model_module_version": "1.5.0",
      "model_name": "IntProgressModel",
      "state": {
       "bar_style": "danger",
       "description": "  0%",
       "layout": "IPY_MODEL_ac30cf40b8ed47b8af85810f59296618",
       "max": 33808,
       "style": "IPY_MODEL_2891b4185abd4173ae86ea28eb6576e3",
       "value": 10
      }
     },
     "ef5a1c410d434ecba5f593b1ec6be61f": {
      "model_module": "@jupyter-widgets/base",
      "model_module_version": "1.2.0",
      "model_name": "LayoutModel",
      "state": {}
     },
     "f0567cd74a67443798e15425c94735d4": {
      "model_module": "@jupyter-widgets/controls",
      "model_module_version": "1.5.0",
      "model_name": "HBoxModel",
      "state": {
       "children": [
        "IPY_MODEL_11912e2d99cf40868cd7024cd643e42b",
        "IPY_MODEL_7b64757a178541a4aad850c1b9964f3c"
       ],
       "layout": "IPY_MODEL_e9d47c19b1154c028c576deb09b11e2f"
      }
     },
     "f0d7b81f18cc408baf8bb7fbcf22d251": {
      "model_module": "@jupyter-widgets/controls",
      "model_module_version": "1.5.0",
      "model_name": "HBoxModel",
      "state": {
       "children": [
        "IPY_MODEL_5bdb3d50f7204ccd8e63c4b6314ad960",
        "IPY_MODEL_3bcc92062da64032b9799b245fa4c3d3"
       ],
       "layout": "IPY_MODEL_98698c455827475fa85e39e467b2db2e"
      }
     },
     "f0e8f487f715458da59be37e9d1c6fd6": {
      "model_module": "@jupyter-widgets/controls",
      "model_module_version": "1.5.0",
      "model_name": "HBoxModel",
      "state": {
       "children": [
        "IPY_MODEL_a0bed612967e4757979099a67f470440",
        "IPY_MODEL_5c472fccb9154cdca218b9434a17986c"
       ],
       "layout": "IPY_MODEL_49d526b0d51f44c0af43877bc0fbb963"
      }
     },
     "f146b636b6e447a685d4512dc1fc597a": {
      "model_module": "@jupyter-widgets/controls",
      "model_module_version": "1.5.0",
      "model_name": "ProgressStyleModel",
      "state": {
       "description_width": "initial"
      }
     },
     "f1da97107ed1458fbd6839f65d824046": {
      "model_module": "@jupyter-widgets/base",
      "model_module_version": "1.2.0",
      "model_name": "LayoutModel",
      "state": {}
     },
     "f2137ff1ce8340eab4d5be58cf8acd9b": {
      "model_module": "@jupyter-widgets/controls",
      "model_module_version": "1.5.0",
      "model_name": "HBoxModel",
      "state": {
       "children": [
        "IPY_MODEL_14f5743b9e214881a17308159f4c3f7c",
        "IPY_MODEL_30891f80ab614cce9ab347fdba260599"
       ],
       "layout": "IPY_MODEL_5c1ddaa9cd834809beee9374004d9557"
      }
     },
     "f2671aca5ad341a1b33666cdb16e01e8": {
      "model_module": "@jupyter-widgets/controls",
      "model_module_version": "1.5.0",
      "model_name": "HBoxModel",
      "state": {
       "children": [
        "IPY_MODEL_b2dc196c6f754feba2e172ddedd29be0",
        "IPY_MODEL_aa22121c80274ae5bd0373ca9d9ff40b"
       ],
       "layout": "IPY_MODEL_0cb4dca42bb14f0ab125c68b93510ef3"
      }
     },
     "f2890a35e6354771b445667de178caf1": {
      "model_module": "@jupyter-widgets/controls",
      "model_module_version": "1.5.0",
      "model_name": "DescriptionStyleModel",
      "state": {
       "description_width": ""
      }
     },
     "f2fb47f5679844ca9e1428d3aa6db952": {
      "model_module": "@jupyter-widgets/controls",
      "model_module_version": "1.5.0",
      "model_name": "ProgressStyleModel",
      "state": {
       "description_width": "initial"
      }
     },
     "f3a82208b6c24501a16bddcf8491d9d5": {
      "model_module": "@jupyter-widgets/base",
      "model_module_version": "1.2.0",
      "model_name": "LayoutModel",
      "state": {}
     },
     "f5200ed8538f42688402b662d0e4cac3": {
      "model_module": "@jupyter-widgets/controls",
      "model_module_version": "1.5.0",
      "model_name": "HTMLModel",
      "state": {
       "layout": "IPY_MODEL_2e52046ea4924ed9991a2d1fcbee23d9",
       "style": "IPY_MODEL_9f7dca91902b4e72b79f64040e2f1696",
       "value": " 1/33808 [00:00&lt;3:02:02,  3.10it/s]"
      }
     },
     "f5f49c88fccb42219151e6fb9695dff6": {
      "model_module": "@jupyter-widgets/base",
      "model_module_version": "1.2.0",
      "model_name": "LayoutModel",
      "state": {}
     },
     "f783ea1e7c0e4a1590aae382717d9e6f": {
      "model_module": "@jupyter-widgets/base",
      "model_module_version": "1.2.0",
      "model_name": "LayoutModel",
      "state": {}
     },
     "fb804d9726f840ff84807def2bc1e805": {
      "model_module": "@jupyter-widgets/controls",
      "model_module_version": "1.5.0",
      "model_name": "HTMLModel",
      "state": {
       "layout": "IPY_MODEL_96ca084baa1b4db9b987313d46a40b03",
       "style": "IPY_MODEL_30639f1693dc4028a243e248587a5071",
       "value": " 1/33808 [00:00&lt;8:20:04,  1.13it/s]"
      }
     },
     "fc7da7f23f184de6b0f1ccc6d6cbbeaf": {
      "model_module": "@jupyter-widgets/controls",
      "model_module_version": "1.5.0",
      "model_name": "IntProgressModel",
      "state": {
       "bar_style": "danger",
       "description": "  0%",
       "layout": "IPY_MODEL_ffd63850590642f2a421cca4e42ff324",
       "max": 33808,
       "style": "IPY_MODEL_405a573c742740009a236bd06fdb9f84"
      }
     },
     "fd7ab06a79a34ac3b781d2977b1f564d": {
      "model_module": "@jupyter-widgets/controls",
      "model_module_version": "1.5.0",
      "model_name": "DescriptionStyleModel",
      "state": {
       "description_width": ""
      }
     },
     "fe0187e8f2a34dc8ac4be0085051e3d6": {
      "model_module": "@jupyter-widgets/base",
      "model_module_version": "1.2.0",
      "model_name": "LayoutModel",
      "state": {}
     },
     "fe795a09e42c42918b36b215534f0db2": {
      "model_module": "@jupyter-widgets/base",
      "model_module_version": "1.2.0",
      "model_name": "LayoutModel",
      "state": {}
     },
     "ff76921dd361488fb7f84db58f4dfaf8": {
      "model_module": "@jupyter-widgets/controls",
      "model_module_version": "1.5.0",
      "model_name": "DescriptionStyleModel",
      "state": {
       "description_width": ""
      }
     },
     "ffd63850590642f2a421cca4e42ff324": {
      "model_module": "@jupyter-widgets/base",
      "model_module_version": "1.2.0",
      "model_name": "LayoutModel",
      "state": {}
     }
    },
    "version_major": 2,
    "version_minor": 0
   }
  }
 },
 "nbformat": 4,
 "nbformat_minor": 4
}
